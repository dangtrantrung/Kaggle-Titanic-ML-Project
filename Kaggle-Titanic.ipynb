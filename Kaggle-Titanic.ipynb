{
 "cells": [
  {
   "cell_type": "code",
   "execution_count": 1,
   "id": "3eea24e5",
   "metadata": {
    "_cell_guid": "b1076dfc-b9ad-4769-8c92-a6c4dae69d19",
    "_uuid": "8f2839f25d086af736a60e9eeb907d3b93b6e0e5",
    "execution": {
     "iopub.execute_input": "2024-02-03T08:03:06.827491Z",
     "iopub.status.busy": "2024-02-03T08:03:06.826517Z",
     "iopub.status.idle": "2024-02-03T08:03:07.722727Z",
     "shell.execute_reply": "2024-02-03T08:03:07.721216Z"
    },
    "papermill": {
     "duration": 0.928719,
     "end_time": "2024-02-03T08:03:07.726095",
     "exception": false,
     "start_time": "2024-02-03T08:03:06.797376",
     "status": "completed"
    },
    "tags": []
   },
   "outputs": [
    {
     "name": "stdout",
     "output_type": "stream",
     "text": [
      "/kaggle/input/titanic/train.csv\n",
      "/kaggle/input/titanic/test.csv\n",
      "/kaggle/input/titanic/gender_submission.csv\n"
     ]
    }
   ],
   "source": [
    "# This Python 3 environment comes with many helpful analytics libraries installed\n",
    "# It is defined by the kaggle/python Docker image: https://github.com/kaggle/docker-python\n",
    "# For example, here's several helpful packages to load\n",
    "\n",
    "import numpy as np # linear algebra\n",
    "import pandas as pd # data processing, CSV file I/O (e.g. pd.read_csv)\n",
    "\n",
    "# Input data files are available in the read-only \"../input/\" directory\n",
    "# For example, running this (by clicking run or pressing Shift+Enter) will list all files under the input directory\n",
    "\n",
    "import os\n",
    "for dirname, _, filenames in os.walk('/kaggle/input'):\n",
    "    for filename in filenames:\n",
    "        print(os.path.join(dirname, filename))\n",
    "\n",
    "# You can write up to 20GB to the current directory (/kaggle/working/) that gets preserved as output when you create a version using \"Save & Run All\" \n",
    "# You can also write temporary files to /kaggle/temp/, but they won't be saved outside of the current session"
   ]
  },
  {
   "cell_type": "markdown",
   "id": "b51926d4",
   "metadata": {
    "papermill": {
     "duration": 0.027605,
     "end_time": "2024-02-03T08:03:07.780997",
     "exception": false,
     "start_time": "2024-02-03T08:03:07.753392",
     "status": "completed"
    },
    "tags": []
   },
   "source": []
  },
  {
   "cell_type": "code",
   "execution_count": 2,
   "id": "a2924312",
   "metadata": {
    "execution": {
     "iopub.execute_input": "2024-02-03T08:03:07.836987Z",
     "iopub.status.busy": "2024-02-03T08:03:07.835623Z",
     "iopub.status.idle": "2024-02-03T08:03:07.871069Z",
     "shell.execute_reply": "2024-02-03T08:03:07.870211Z"
    },
    "papermill": {
     "duration": 0.066297,
     "end_time": "2024-02-03T08:03:07.873800",
     "exception": false,
     "start_time": "2024-02-03T08:03:07.807503",
     "status": "completed"
    },
    "tags": []
   },
   "outputs": [],
   "source": [
    "train_df=pd.read_csv('/kaggle/input/titanic/train.csv')\n",
    "test_df=pd.read_csv('/kaggle/input/titanic/test.csv')\n",
    "gender_df=pd.read_csv('/kaggle/input/titanic/gender_submission.csv')\n",
    "\n"
   ]
  },
  {
   "cell_type": "code",
   "execution_count": 3,
   "id": "dc7f5fa4",
   "metadata": {
    "execution": {
     "iopub.execute_input": "2024-02-03T08:03:07.930093Z",
     "iopub.status.busy": "2024-02-03T08:03:07.929283Z",
     "iopub.status.idle": "2024-02-03T08:03:07.960286Z",
     "shell.execute_reply": "2024-02-03T08:03:07.959043Z"
    },
    "papermill": {
     "duration": 0.061985,
     "end_time": "2024-02-03T08:03:07.963017",
     "exception": false,
     "start_time": "2024-02-03T08:03:07.901032",
     "status": "completed"
    },
    "tags": []
   },
   "outputs": [
    {
     "data": {
      "text/html": [
       "<div>\n",
       "<style scoped>\n",
       "    .dataframe tbody tr th:only-of-type {\n",
       "        vertical-align: middle;\n",
       "    }\n",
       "\n",
       "    .dataframe tbody tr th {\n",
       "        vertical-align: top;\n",
       "    }\n",
       "\n",
       "    .dataframe thead th {\n",
       "        text-align: right;\n",
       "    }\n",
       "</style>\n",
       "<table border=\"1\" class=\"dataframe\">\n",
       "  <thead>\n",
       "    <tr style=\"text-align: right;\">\n",
       "      <th></th>\n",
       "      <th>PassengerId</th>\n",
       "      <th>Survived</th>\n",
       "      <th>Pclass</th>\n",
       "      <th>Name</th>\n",
       "      <th>Sex</th>\n",
       "      <th>Age</th>\n",
       "      <th>SibSp</th>\n",
       "      <th>Parch</th>\n",
       "      <th>Ticket</th>\n",
       "      <th>Fare</th>\n",
       "      <th>Cabin</th>\n",
       "      <th>Embarked</th>\n",
       "    </tr>\n",
       "  </thead>\n",
       "  <tbody>\n",
       "    <tr>\n",
       "      <th>0</th>\n",
       "      <td>1</td>\n",
       "      <td>0</td>\n",
       "      <td>3</td>\n",
       "      <td>Braund, Mr. Owen Harris</td>\n",
       "      <td>male</td>\n",
       "      <td>22.0</td>\n",
       "      <td>1</td>\n",
       "      <td>0</td>\n",
       "      <td>A/5 21171</td>\n",
       "      <td>7.2500</td>\n",
       "      <td>NaN</td>\n",
       "      <td>S</td>\n",
       "    </tr>\n",
       "    <tr>\n",
       "      <th>1</th>\n",
       "      <td>2</td>\n",
       "      <td>1</td>\n",
       "      <td>1</td>\n",
       "      <td>Cumings, Mrs. John Bradley (Florence Briggs Th...</td>\n",
       "      <td>female</td>\n",
       "      <td>38.0</td>\n",
       "      <td>1</td>\n",
       "      <td>0</td>\n",
       "      <td>PC 17599</td>\n",
       "      <td>71.2833</td>\n",
       "      <td>C85</td>\n",
       "      <td>C</td>\n",
       "    </tr>\n",
       "    <tr>\n",
       "      <th>2</th>\n",
       "      <td>3</td>\n",
       "      <td>1</td>\n",
       "      <td>3</td>\n",
       "      <td>Heikkinen, Miss. Laina</td>\n",
       "      <td>female</td>\n",
       "      <td>26.0</td>\n",
       "      <td>0</td>\n",
       "      <td>0</td>\n",
       "      <td>STON/O2. 3101282</td>\n",
       "      <td>7.9250</td>\n",
       "      <td>NaN</td>\n",
       "      <td>S</td>\n",
       "    </tr>\n",
       "    <tr>\n",
       "      <th>3</th>\n",
       "      <td>4</td>\n",
       "      <td>1</td>\n",
       "      <td>1</td>\n",
       "      <td>Futrelle, Mrs. Jacques Heath (Lily May Peel)</td>\n",
       "      <td>female</td>\n",
       "      <td>35.0</td>\n",
       "      <td>1</td>\n",
       "      <td>0</td>\n",
       "      <td>113803</td>\n",
       "      <td>53.1000</td>\n",
       "      <td>C123</td>\n",
       "      <td>S</td>\n",
       "    </tr>\n",
       "    <tr>\n",
       "      <th>4</th>\n",
       "      <td>5</td>\n",
       "      <td>0</td>\n",
       "      <td>3</td>\n",
       "      <td>Allen, Mr. William Henry</td>\n",
       "      <td>male</td>\n",
       "      <td>35.0</td>\n",
       "      <td>0</td>\n",
       "      <td>0</td>\n",
       "      <td>373450</td>\n",
       "      <td>8.0500</td>\n",
       "      <td>NaN</td>\n",
       "      <td>S</td>\n",
       "    </tr>\n",
       "  </tbody>\n",
       "</table>\n",
       "</div>"
      ],
      "text/plain": [
       "   PassengerId  Survived  Pclass  \\\n",
       "0            1         0       3   \n",
       "1            2         1       1   \n",
       "2            3         1       3   \n",
       "3            4         1       1   \n",
       "4            5         0       3   \n",
       "\n",
       "                                                Name     Sex   Age  SibSp  \\\n",
       "0                            Braund, Mr. Owen Harris    male  22.0      1   \n",
       "1  Cumings, Mrs. John Bradley (Florence Briggs Th...  female  38.0      1   \n",
       "2                             Heikkinen, Miss. Laina  female  26.0      0   \n",
       "3       Futrelle, Mrs. Jacques Heath (Lily May Peel)  female  35.0      1   \n",
       "4                           Allen, Mr. William Henry    male  35.0      0   \n",
       "\n",
       "   Parch            Ticket     Fare Cabin Embarked  \n",
       "0      0         A/5 21171   7.2500   NaN        S  \n",
       "1      0          PC 17599  71.2833   C85        C  \n",
       "2      0  STON/O2. 3101282   7.9250   NaN        S  \n",
       "3      0            113803  53.1000  C123        S  \n",
       "4      0            373450   8.0500   NaN        S  "
      ]
     },
     "execution_count": 3,
     "metadata": {},
     "output_type": "execute_result"
    }
   ],
   "source": [
    "train_df.head()"
   ]
  },
  {
   "cell_type": "code",
   "execution_count": 4,
   "id": "ada88353",
   "metadata": {
    "execution": {
     "iopub.execute_input": "2024-02-03T08:03:08.019750Z",
     "iopub.status.busy": "2024-02-03T08:03:08.018781Z",
     "iopub.status.idle": "2024-02-03T08:03:08.027004Z",
     "shell.execute_reply": "2024-02-03T08:03:08.025793Z"
    },
    "papermill": {
     "duration": 0.039277,
     "end_time": "2024-02-03T08:03:08.029473",
     "exception": false,
     "start_time": "2024-02-03T08:03:07.990196",
     "status": "completed"
    },
    "tags": []
   },
   "outputs": [
    {
     "data": {
      "text/plain": [
       "(Index(['PassengerId', 'Survived', 'Pclass', 'Name', 'Sex', 'Age', 'SibSp',\n",
       "        'Parch', 'Ticket', 'Fare', 'Cabin', 'Embarked'],\n",
       "       dtype='object'),\n",
       " Index(['PassengerId', 'Pclass', 'Name', 'Sex', 'Age', 'SibSp', 'Parch',\n",
       "        'Ticket', 'Fare', 'Cabin', 'Embarked'],\n",
       "       dtype='object'),\n",
       " Index(['PassengerId', 'Survived'], dtype='object'))"
      ]
     },
     "execution_count": 4,
     "metadata": {},
     "output_type": "execute_result"
    }
   ],
   "source": [
    "train_df.columns,test_df.columns,gender_df.columns"
   ]
  },
  {
   "cell_type": "markdown",
   "id": "9b3c20c0",
   "metadata": {
    "papermill": {
     "duration": 0.027058,
     "end_time": "2024-02-03T08:03:08.147680",
     "exception": false,
     "start_time": "2024-02-03T08:03:08.120622",
     "status": "completed"
    },
    "tags": []
   },
   "source": [
    "# Explore Data"
   ]
  },
  {
   "cell_type": "code",
   "execution_count": 5,
   "id": "1079394c",
   "metadata": {
    "execution": {
     "iopub.execute_input": "2024-02-03T08:03:08.204396Z",
     "iopub.status.busy": "2024-02-03T08:03:08.203674Z",
     "iopub.status.idle": "2024-02-03T08:03:08.222253Z",
     "shell.execute_reply": "2024-02-03T08:03:08.221030Z"
    },
    "papermill": {
     "duration": 0.050133,
     "end_time": "2024-02-03T08:03:08.225020",
     "exception": false,
     "start_time": "2024-02-03T08:03:08.174887",
     "status": "completed"
    },
    "tags": []
   },
   "outputs": [
    {
     "data": {
      "text/plain": [
       "(   PassengerId  Survived  Pclass  \\\n",
       " 0            1         0       3   \n",
       " 1            2         1       1   \n",
       " 2            3         1       3   \n",
       " 3            4         1       1   \n",
       " 4            5         0       3   \n",
       " \n",
       "                                                 Name     Sex   Age  SibSp  \\\n",
       " 0                            Braund, Mr. Owen Harris    male  22.0      1   \n",
       " 1  Cumings, Mrs. John Bradley (Florence Briggs Th...  female  38.0      1   \n",
       " 2                             Heikkinen, Miss. Laina  female  26.0      0   \n",
       " 3       Futrelle, Mrs. Jacques Heath (Lily May Peel)  female  35.0      1   \n",
       " 4                           Allen, Mr. William Henry    male  35.0      0   \n",
       " \n",
       "    Parch            Ticket     Fare Cabin Embarked  \n",
       " 0      0         A/5 21171   7.2500   NaN        S  \n",
       " 1      0          PC 17599  71.2833   C85        C  \n",
       " 2      0  STON/O2. 3101282   7.9250   NaN        S  \n",
       " 3      0            113803  53.1000  C123        S  \n",
       " 4      0            373450   8.0500   NaN        S  ,\n",
       "    PassengerId  Pclass                                          Name     Sex  \\\n",
       " 0          892       3                              Kelly, Mr. James    male   \n",
       " 1          893       3              Wilkes, Mrs. James (Ellen Needs)  female   \n",
       " 2          894       2                     Myles, Mr. Thomas Francis    male   \n",
       " 3          895       3                              Wirz, Mr. Albert    male   \n",
       " 4          896       3  Hirvonen, Mrs. Alexander (Helga E Lindqvist)  female   \n",
       " \n",
       "     Age  SibSp  Parch   Ticket     Fare Cabin Embarked  \n",
       " 0  34.5      0      0   330911   7.8292   NaN        Q  \n",
       " 1  47.0      1      0   363272   7.0000   NaN        S  \n",
       " 2  62.0      0      0   240276   9.6875   NaN        Q  \n",
       " 3  27.0      0      0   315154   8.6625   NaN        S  \n",
       " 4  22.0      1      1  3101298  12.2875   NaN        S  ,\n",
       "    PassengerId  Survived\n",
       " 0          892         0\n",
       " 1          893         1\n",
       " 2          894         0\n",
       " 3          895         0\n",
       " 4          896         1)"
      ]
     },
     "execution_count": 5,
     "metadata": {},
     "output_type": "execute_result"
    }
   ],
   "source": [
    "train_df.head(),test_df.head(),gender_df.head()"
   ]
  },
  {
   "cell_type": "code",
   "execution_count": 6,
   "id": "e6f215c0",
   "metadata": {
    "execution": {
     "iopub.execute_input": "2024-02-03T08:03:08.283205Z",
     "iopub.status.busy": "2024-02-03T08:03:08.282515Z",
     "iopub.status.idle": "2024-02-03T08:03:08.302064Z",
     "shell.execute_reply": "2024-02-03T08:03:08.300871Z"
    },
    "papermill": {
     "duration": 0.051508,
     "end_time": "2024-02-03T08:03:08.304754",
     "exception": false,
     "start_time": "2024-02-03T08:03:08.253246",
     "status": "completed"
    },
    "tags": []
   },
   "outputs": [
    {
     "data": {
      "text/html": [
       "<div>\n",
       "<style scoped>\n",
       "    .dataframe tbody tr th:only-of-type {\n",
       "        vertical-align: middle;\n",
       "    }\n",
       "\n",
       "    .dataframe tbody tr th {\n",
       "        vertical-align: top;\n",
       "    }\n",
       "\n",
       "    .dataframe thead th {\n",
       "        text-align: right;\n",
       "    }\n",
       "</style>\n",
       "<table border=\"1\" class=\"dataframe\">\n",
       "  <thead>\n",
       "    <tr style=\"text-align: right;\">\n",
       "      <th></th>\n",
       "      <th>PassengerId</th>\n",
       "      <th>Survived</th>\n",
       "      <th>Pclass</th>\n",
       "      <th>Name</th>\n",
       "      <th>Sex</th>\n",
       "      <th>Age</th>\n",
       "      <th>SibSp</th>\n",
       "      <th>Parch</th>\n",
       "      <th>Ticket</th>\n",
       "      <th>Fare</th>\n",
       "      <th>Cabin</th>\n",
       "      <th>Embarked</th>\n",
       "    </tr>\n",
       "    <tr>\n",
       "      <th>PassengerId</th>\n",
       "      <th></th>\n",
       "      <th></th>\n",
       "      <th></th>\n",
       "      <th></th>\n",
       "      <th></th>\n",
       "      <th></th>\n",
       "      <th></th>\n",
       "      <th></th>\n",
       "      <th></th>\n",
       "      <th></th>\n",
       "      <th></th>\n",
       "      <th></th>\n",
       "    </tr>\n",
       "  </thead>\n",
       "  <tbody>\n",
       "    <tr>\n",
       "      <th>1</th>\n",
       "      <td>1</td>\n",
       "      <td>0</td>\n",
       "      <td>3</td>\n",
       "      <td>Braund, Mr. Owen Harris</td>\n",
       "      <td>male</td>\n",
       "      <td>22.0</td>\n",
       "      <td>1</td>\n",
       "      <td>0</td>\n",
       "      <td>A/5 21171</td>\n",
       "      <td>7.2500</td>\n",
       "      <td>NaN</td>\n",
       "      <td>S</td>\n",
       "    </tr>\n",
       "    <tr>\n",
       "      <th>2</th>\n",
       "      <td>2</td>\n",
       "      <td>1</td>\n",
       "      <td>1</td>\n",
       "      <td>Cumings, Mrs. John Bradley (Florence Briggs Th...</td>\n",
       "      <td>female</td>\n",
       "      <td>38.0</td>\n",
       "      <td>1</td>\n",
       "      <td>0</td>\n",
       "      <td>PC 17599</td>\n",
       "      <td>71.2833</td>\n",
       "      <td>C85</td>\n",
       "      <td>C</td>\n",
       "    </tr>\n",
       "    <tr>\n",
       "      <th>3</th>\n",
       "      <td>3</td>\n",
       "      <td>1</td>\n",
       "      <td>3</td>\n",
       "      <td>Heikkinen, Miss. Laina</td>\n",
       "      <td>female</td>\n",
       "      <td>26.0</td>\n",
       "      <td>0</td>\n",
       "      <td>0</td>\n",
       "      <td>STON/O2. 3101282</td>\n",
       "      <td>7.9250</td>\n",
       "      <td>NaN</td>\n",
       "      <td>S</td>\n",
       "    </tr>\n",
       "    <tr>\n",
       "      <th>4</th>\n",
       "      <td>4</td>\n",
       "      <td>1</td>\n",
       "      <td>1</td>\n",
       "      <td>Futrelle, Mrs. Jacques Heath (Lily May Peel)</td>\n",
       "      <td>female</td>\n",
       "      <td>35.0</td>\n",
       "      <td>1</td>\n",
       "      <td>0</td>\n",
       "      <td>113803</td>\n",
       "      <td>53.1000</td>\n",
       "      <td>C123</td>\n",
       "      <td>S</td>\n",
       "    </tr>\n",
       "    <tr>\n",
       "      <th>5</th>\n",
       "      <td>5</td>\n",
       "      <td>0</td>\n",
       "      <td>3</td>\n",
       "      <td>Allen, Mr. William Henry</td>\n",
       "      <td>male</td>\n",
       "      <td>35.0</td>\n",
       "      <td>0</td>\n",
       "      <td>0</td>\n",
       "      <td>373450</td>\n",
       "      <td>8.0500</td>\n",
       "      <td>NaN</td>\n",
       "      <td>S</td>\n",
       "    </tr>\n",
       "  </tbody>\n",
       "</table>\n",
       "</div>"
      ],
      "text/plain": [
       "             PassengerId  Survived  Pclass  \\\n",
       "PassengerId                                  \n",
       "1                      1         0       3   \n",
       "2                      2         1       1   \n",
       "3                      3         1       3   \n",
       "4                      4         1       1   \n",
       "5                      5         0       3   \n",
       "\n",
       "                                                          Name     Sex   Age  \\\n",
       "PassengerId                                                                    \n",
       "1                                      Braund, Mr. Owen Harris    male  22.0   \n",
       "2            Cumings, Mrs. John Bradley (Florence Briggs Th...  female  38.0   \n",
       "3                                       Heikkinen, Miss. Laina  female  26.0   \n",
       "4                 Futrelle, Mrs. Jacques Heath (Lily May Peel)  female  35.0   \n",
       "5                                     Allen, Mr. William Henry    male  35.0   \n",
       "\n",
       "             SibSp  Parch            Ticket     Fare Cabin Embarked  \n",
       "PassengerId                                                          \n",
       "1                1      0         A/5 21171   7.2500   NaN        S  \n",
       "2                1      0          PC 17599  71.2833   C85        C  \n",
       "3                0      0  STON/O2. 3101282   7.9250   NaN        S  \n",
       "4                1      0            113803  53.1000  C123        S  \n",
       "5                0      0            373450   8.0500   NaN        S  "
      ]
     },
     "execution_count": 6,
     "metadata": {},
     "output_type": "execute_result"
    }
   ],
   "source": [
    "train_df.set_index(train_df.PassengerId,inplace=True)\n",
    "train_df.head()"
   ]
  },
  {
   "cell_type": "code",
   "execution_count": 7,
   "id": "dca8a4a2",
   "metadata": {
    "execution": {
     "iopub.execute_input": "2024-02-03T08:03:08.362942Z",
     "iopub.status.busy": "2024-02-03T08:03:08.362498Z",
     "iopub.status.idle": "2024-02-03T08:03:08.375291Z",
     "shell.execute_reply": "2024-02-03T08:03:08.374305Z"
    },
    "papermill": {
     "duration": 0.044275,
     "end_time": "2024-02-03T08:03:08.377481",
     "exception": false,
     "start_time": "2024-02-03T08:03:08.333206",
     "status": "completed"
    },
    "tags": []
   },
   "outputs": [],
   "source": [
    "train_df.drop(\"PassengerId\",axis=1,inplace=True)"
   ]
  },
  {
   "cell_type": "code",
   "execution_count": 8,
   "id": "d26c6c53",
   "metadata": {
    "execution": {
     "iopub.execute_input": "2024-02-03T08:03:08.436538Z",
     "iopub.status.busy": "2024-02-03T08:03:08.435735Z",
     "iopub.status.idle": "2024-02-03T08:03:08.452331Z",
     "shell.execute_reply": "2024-02-03T08:03:08.451342Z"
    },
    "papermill": {
     "duration": 0.048998,
     "end_time": "2024-02-03T08:03:08.455111",
     "exception": false,
     "start_time": "2024-02-03T08:03:08.406113",
     "status": "completed"
    },
    "tags": []
   },
   "outputs": [
    {
     "data": {
      "text/html": [
       "<div>\n",
       "<style scoped>\n",
       "    .dataframe tbody tr th:only-of-type {\n",
       "        vertical-align: middle;\n",
       "    }\n",
       "\n",
       "    .dataframe tbody tr th {\n",
       "        vertical-align: top;\n",
       "    }\n",
       "\n",
       "    .dataframe thead th {\n",
       "        text-align: right;\n",
       "    }\n",
       "</style>\n",
       "<table border=\"1\" class=\"dataframe\">\n",
       "  <thead>\n",
       "    <tr style=\"text-align: right;\">\n",
       "      <th></th>\n",
       "      <th>Survived</th>\n",
       "      <th>Pclass</th>\n",
       "      <th>Name</th>\n",
       "      <th>Sex</th>\n",
       "      <th>Age</th>\n",
       "      <th>SibSp</th>\n",
       "      <th>Parch</th>\n",
       "      <th>Ticket</th>\n",
       "      <th>Fare</th>\n",
       "      <th>Cabin</th>\n",
       "      <th>Embarked</th>\n",
       "    </tr>\n",
       "    <tr>\n",
       "      <th>PassengerId</th>\n",
       "      <th></th>\n",
       "      <th></th>\n",
       "      <th></th>\n",
       "      <th></th>\n",
       "      <th></th>\n",
       "      <th></th>\n",
       "      <th></th>\n",
       "      <th></th>\n",
       "      <th></th>\n",
       "      <th></th>\n",
       "      <th></th>\n",
       "    </tr>\n",
       "  </thead>\n",
       "  <tbody>\n",
       "    <tr>\n",
       "      <th>1</th>\n",
       "      <td>0</td>\n",
       "      <td>3</td>\n",
       "      <td>Braund, Mr. Owen Harris</td>\n",
       "      <td>male</td>\n",
       "      <td>22.0</td>\n",
       "      <td>1</td>\n",
       "      <td>0</td>\n",
       "      <td>A/5 21171</td>\n",
       "      <td>7.2500</td>\n",
       "      <td>NaN</td>\n",
       "      <td>S</td>\n",
       "    </tr>\n",
       "    <tr>\n",
       "      <th>2</th>\n",
       "      <td>1</td>\n",
       "      <td>1</td>\n",
       "      <td>Cumings, Mrs. John Bradley (Florence Briggs Th...</td>\n",
       "      <td>female</td>\n",
       "      <td>38.0</td>\n",
       "      <td>1</td>\n",
       "      <td>0</td>\n",
       "      <td>PC 17599</td>\n",
       "      <td>71.2833</td>\n",
       "      <td>C85</td>\n",
       "      <td>C</td>\n",
       "    </tr>\n",
       "    <tr>\n",
       "      <th>3</th>\n",
       "      <td>1</td>\n",
       "      <td>3</td>\n",
       "      <td>Heikkinen, Miss. Laina</td>\n",
       "      <td>female</td>\n",
       "      <td>26.0</td>\n",
       "      <td>0</td>\n",
       "      <td>0</td>\n",
       "      <td>STON/O2. 3101282</td>\n",
       "      <td>7.9250</td>\n",
       "      <td>NaN</td>\n",
       "      <td>S</td>\n",
       "    </tr>\n",
       "    <tr>\n",
       "      <th>4</th>\n",
       "      <td>1</td>\n",
       "      <td>1</td>\n",
       "      <td>Futrelle, Mrs. Jacques Heath (Lily May Peel)</td>\n",
       "      <td>female</td>\n",
       "      <td>35.0</td>\n",
       "      <td>1</td>\n",
       "      <td>0</td>\n",
       "      <td>113803</td>\n",
       "      <td>53.1000</td>\n",
       "      <td>C123</td>\n",
       "      <td>S</td>\n",
       "    </tr>\n",
       "    <tr>\n",
       "      <th>5</th>\n",
       "      <td>0</td>\n",
       "      <td>3</td>\n",
       "      <td>Allen, Mr. William Henry</td>\n",
       "      <td>male</td>\n",
       "      <td>35.0</td>\n",
       "      <td>0</td>\n",
       "      <td>0</td>\n",
       "      <td>373450</td>\n",
       "      <td>8.0500</td>\n",
       "      <td>NaN</td>\n",
       "      <td>S</td>\n",
       "    </tr>\n",
       "  </tbody>\n",
       "</table>\n",
       "</div>"
      ],
      "text/plain": [
       "             Survived  Pclass  \\\n",
       "PassengerId                     \n",
       "1                   0       3   \n",
       "2                   1       1   \n",
       "3                   1       3   \n",
       "4                   1       1   \n",
       "5                   0       3   \n",
       "\n",
       "                                                          Name     Sex   Age  \\\n",
       "PassengerId                                                                    \n",
       "1                                      Braund, Mr. Owen Harris    male  22.0   \n",
       "2            Cumings, Mrs. John Bradley (Florence Briggs Th...  female  38.0   \n",
       "3                                       Heikkinen, Miss. Laina  female  26.0   \n",
       "4                 Futrelle, Mrs. Jacques Heath (Lily May Peel)  female  35.0   \n",
       "5                                     Allen, Mr. William Henry    male  35.0   \n",
       "\n",
       "             SibSp  Parch            Ticket     Fare Cabin Embarked  \n",
       "PassengerId                                                          \n",
       "1                1      0         A/5 21171   7.2500   NaN        S  \n",
       "2                1      0          PC 17599  71.2833   C85        C  \n",
       "3                0      0  STON/O2. 3101282   7.9250   NaN        S  \n",
       "4                1      0            113803  53.1000  C123        S  \n",
       "5                0      0            373450   8.0500   NaN        S  "
      ]
     },
     "execution_count": 8,
     "metadata": {},
     "output_type": "execute_result"
    }
   ],
   "source": [
    "train_df.head()"
   ]
  },
  {
   "cell_type": "code",
   "execution_count": 9,
   "id": "acc785a6",
   "metadata": {
    "execution": {
     "iopub.execute_input": "2024-02-03T08:03:08.513138Z",
     "iopub.status.busy": "2024-02-03T08:03:08.512675Z",
     "iopub.status.idle": "2024-02-03T08:03:08.527681Z",
     "shell.execute_reply": "2024-02-03T08:03:08.526500Z"
    },
    "papermill": {
     "duration": 0.047002,
     "end_time": "2024-02-03T08:03:08.530193",
     "exception": false,
     "start_time": "2024-02-03T08:03:08.483191",
     "status": "completed"
    },
    "tags": []
   },
   "outputs": [],
   "source": [
    "test_df=pd.read_csv('../input/titanic/test.csv',index_col=\"PassengerId\")"
   ]
  },
  {
   "cell_type": "code",
   "execution_count": 10,
   "id": "5b6f33f9",
   "metadata": {
    "execution": {
     "iopub.execute_input": "2024-02-03T08:03:08.589434Z",
     "iopub.status.busy": "2024-02-03T08:03:08.588690Z",
     "iopub.status.idle": "2024-02-03T08:03:08.604834Z",
     "shell.execute_reply": "2024-02-03T08:03:08.604008Z"
    },
    "papermill": {
     "duration": 0.048545,
     "end_time": "2024-02-03T08:03:08.607112",
     "exception": false,
     "start_time": "2024-02-03T08:03:08.558567",
     "status": "completed"
    },
    "tags": []
   },
   "outputs": [
    {
     "data": {
      "text/html": [
       "<div>\n",
       "<style scoped>\n",
       "    .dataframe tbody tr th:only-of-type {\n",
       "        vertical-align: middle;\n",
       "    }\n",
       "\n",
       "    .dataframe tbody tr th {\n",
       "        vertical-align: top;\n",
       "    }\n",
       "\n",
       "    .dataframe thead th {\n",
       "        text-align: right;\n",
       "    }\n",
       "</style>\n",
       "<table border=\"1\" class=\"dataframe\">\n",
       "  <thead>\n",
       "    <tr style=\"text-align: right;\">\n",
       "      <th></th>\n",
       "      <th>Pclass</th>\n",
       "      <th>Name</th>\n",
       "      <th>Sex</th>\n",
       "      <th>Age</th>\n",
       "      <th>SibSp</th>\n",
       "      <th>Parch</th>\n",
       "      <th>Ticket</th>\n",
       "      <th>Fare</th>\n",
       "      <th>Cabin</th>\n",
       "      <th>Embarked</th>\n",
       "    </tr>\n",
       "    <tr>\n",
       "      <th>PassengerId</th>\n",
       "      <th></th>\n",
       "      <th></th>\n",
       "      <th></th>\n",
       "      <th></th>\n",
       "      <th></th>\n",
       "      <th></th>\n",
       "      <th></th>\n",
       "      <th></th>\n",
       "      <th></th>\n",
       "      <th></th>\n",
       "    </tr>\n",
       "  </thead>\n",
       "  <tbody>\n",
       "    <tr>\n",
       "      <th>892</th>\n",
       "      <td>3</td>\n",
       "      <td>Kelly, Mr. James</td>\n",
       "      <td>male</td>\n",
       "      <td>34.5</td>\n",
       "      <td>0</td>\n",
       "      <td>0</td>\n",
       "      <td>330911</td>\n",
       "      <td>7.8292</td>\n",
       "      <td>NaN</td>\n",
       "      <td>Q</td>\n",
       "    </tr>\n",
       "    <tr>\n",
       "      <th>893</th>\n",
       "      <td>3</td>\n",
       "      <td>Wilkes, Mrs. James (Ellen Needs)</td>\n",
       "      <td>female</td>\n",
       "      <td>47.0</td>\n",
       "      <td>1</td>\n",
       "      <td>0</td>\n",
       "      <td>363272</td>\n",
       "      <td>7.0000</td>\n",
       "      <td>NaN</td>\n",
       "      <td>S</td>\n",
       "    </tr>\n",
       "    <tr>\n",
       "      <th>894</th>\n",
       "      <td>2</td>\n",
       "      <td>Myles, Mr. Thomas Francis</td>\n",
       "      <td>male</td>\n",
       "      <td>62.0</td>\n",
       "      <td>0</td>\n",
       "      <td>0</td>\n",
       "      <td>240276</td>\n",
       "      <td>9.6875</td>\n",
       "      <td>NaN</td>\n",
       "      <td>Q</td>\n",
       "    </tr>\n",
       "    <tr>\n",
       "      <th>895</th>\n",
       "      <td>3</td>\n",
       "      <td>Wirz, Mr. Albert</td>\n",
       "      <td>male</td>\n",
       "      <td>27.0</td>\n",
       "      <td>0</td>\n",
       "      <td>0</td>\n",
       "      <td>315154</td>\n",
       "      <td>8.6625</td>\n",
       "      <td>NaN</td>\n",
       "      <td>S</td>\n",
       "    </tr>\n",
       "    <tr>\n",
       "      <th>896</th>\n",
       "      <td>3</td>\n",
       "      <td>Hirvonen, Mrs. Alexander (Helga E Lindqvist)</td>\n",
       "      <td>female</td>\n",
       "      <td>22.0</td>\n",
       "      <td>1</td>\n",
       "      <td>1</td>\n",
       "      <td>3101298</td>\n",
       "      <td>12.2875</td>\n",
       "      <td>NaN</td>\n",
       "      <td>S</td>\n",
       "    </tr>\n",
       "  </tbody>\n",
       "</table>\n",
       "</div>"
      ],
      "text/plain": [
       "             Pclass                                          Name     Sex  \\\n",
       "PassengerId                                                                 \n",
       "892               3                              Kelly, Mr. James    male   \n",
       "893               3              Wilkes, Mrs. James (Ellen Needs)  female   \n",
       "894               2                     Myles, Mr. Thomas Francis    male   \n",
       "895               3                              Wirz, Mr. Albert    male   \n",
       "896               3  Hirvonen, Mrs. Alexander (Helga E Lindqvist)  female   \n",
       "\n",
       "              Age  SibSp  Parch   Ticket     Fare Cabin Embarked  \n",
       "PassengerId                                                       \n",
       "892          34.5      0      0   330911   7.8292   NaN        Q  \n",
       "893          47.0      1      0   363272   7.0000   NaN        S  \n",
       "894          62.0      0      0   240276   9.6875   NaN        Q  \n",
       "895          27.0      0      0   315154   8.6625   NaN        S  \n",
       "896          22.0      1      1  3101298  12.2875   NaN        S  "
      ]
     },
     "execution_count": 10,
     "metadata": {},
     "output_type": "execute_result"
    }
   ],
   "source": [
    "test_df.head()"
   ]
  },
  {
   "cell_type": "code",
   "execution_count": 11,
   "id": "045c44a3",
   "metadata": {
    "execution": {
     "iopub.execute_input": "2024-02-03T08:03:08.667975Z",
     "iopub.status.busy": "2024-02-03T08:03:08.667550Z",
     "iopub.status.idle": "2024-02-03T08:03:08.684651Z",
     "shell.execute_reply": "2024-02-03T08:03:08.683527Z"
    },
    "papermill": {
     "duration": 0.051246,
     "end_time": "2024-02-03T08:03:08.686899",
     "exception": false,
     "start_time": "2024-02-03T08:03:08.635653",
     "status": "completed"
    },
    "tags": []
   },
   "outputs": [
    {
     "data": {
      "text/html": [
       "<div>\n",
       "<style scoped>\n",
       "    .dataframe tbody tr th:only-of-type {\n",
       "        vertical-align: middle;\n",
       "    }\n",
       "\n",
       "    .dataframe tbody tr th {\n",
       "        vertical-align: top;\n",
       "    }\n",
       "\n",
       "    .dataframe thead th {\n",
       "        text-align: right;\n",
       "    }\n",
       "</style>\n",
       "<table border=\"1\" class=\"dataframe\">\n",
       "  <thead>\n",
       "    <tr style=\"text-align: right;\">\n",
       "      <th></th>\n",
       "      <th>Pclass</th>\n",
       "      <th>Name</th>\n",
       "      <th>Sex</th>\n",
       "      <th>Age</th>\n",
       "      <th>SibSp</th>\n",
       "      <th>Parch</th>\n",
       "      <th>Ticket</th>\n",
       "      <th>Fare</th>\n",
       "      <th>Cabin</th>\n",
       "      <th>Embarked</th>\n",
       "    </tr>\n",
       "    <tr>\n",
       "      <th>PassengerId</th>\n",
       "      <th></th>\n",
       "      <th></th>\n",
       "      <th></th>\n",
       "      <th></th>\n",
       "      <th></th>\n",
       "      <th></th>\n",
       "      <th></th>\n",
       "      <th></th>\n",
       "      <th></th>\n",
       "      <th></th>\n",
       "    </tr>\n",
       "  </thead>\n",
       "  <tbody>\n",
       "    <tr>\n",
       "      <th>1305</th>\n",
       "      <td>3</td>\n",
       "      <td>Spector, Mr. Woolf</td>\n",
       "      <td>male</td>\n",
       "      <td>NaN</td>\n",
       "      <td>0</td>\n",
       "      <td>0</td>\n",
       "      <td>A.5. 3236</td>\n",
       "      <td>8.0500</td>\n",
       "      <td>NaN</td>\n",
       "      <td>S</td>\n",
       "    </tr>\n",
       "    <tr>\n",
       "      <th>1306</th>\n",
       "      <td>1</td>\n",
       "      <td>Oliva y Ocana, Dona. Fermina</td>\n",
       "      <td>female</td>\n",
       "      <td>39.0</td>\n",
       "      <td>0</td>\n",
       "      <td>0</td>\n",
       "      <td>PC 17758</td>\n",
       "      <td>108.9000</td>\n",
       "      <td>C105</td>\n",
       "      <td>C</td>\n",
       "    </tr>\n",
       "    <tr>\n",
       "      <th>1307</th>\n",
       "      <td>3</td>\n",
       "      <td>Saether, Mr. Simon Sivertsen</td>\n",
       "      <td>male</td>\n",
       "      <td>38.5</td>\n",
       "      <td>0</td>\n",
       "      <td>0</td>\n",
       "      <td>SOTON/O.Q. 3101262</td>\n",
       "      <td>7.2500</td>\n",
       "      <td>NaN</td>\n",
       "      <td>S</td>\n",
       "    </tr>\n",
       "    <tr>\n",
       "      <th>1308</th>\n",
       "      <td>3</td>\n",
       "      <td>Ware, Mr. Frederick</td>\n",
       "      <td>male</td>\n",
       "      <td>NaN</td>\n",
       "      <td>0</td>\n",
       "      <td>0</td>\n",
       "      <td>359309</td>\n",
       "      <td>8.0500</td>\n",
       "      <td>NaN</td>\n",
       "      <td>S</td>\n",
       "    </tr>\n",
       "    <tr>\n",
       "      <th>1309</th>\n",
       "      <td>3</td>\n",
       "      <td>Peter, Master. Michael J</td>\n",
       "      <td>male</td>\n",
       "      <td>NaN</td>\n",
       "      <td>1</td>\n",
       "      <td>1</td>\n",
       "      <td>2668</td>\n",
       "      <td>22.3583</td>\n",
       "      <td>NaN</td>\n",
       "      <td>C</td>\n",
       "    </tr>\n",
       "  </tbody>\n",
       "</table>\n",
       "</div>"
      ],
      "text/plain": [
       "             Pclass                          Name     Sex   Age  SibSp  Parch  \\\n",
       "PassengerId                                                                     \n",
       "1305              3            Spector, Mr. Woolf    male   NaN      0      0   \n",
       "1306              1  Oliva y Ocana, Dona. Fermina  female  39.0      0      0   \n",
       "1307              3  Saether, Mr. Simon Sivertsen    male  38.5      0      0   \n",
       "1308              3           Ware, Mr. Frederick    male   NaN      0      0   \n",
       "1309              3      Peter, Master. Michael J    male   NaN      1      1   \n",
       "\n",
       "                         Ticket      Fare Cabin Embarked  \n",
       "PassengerId                                               \n",
       "1305                  A.5. 3236    8.0500   NaN        S  \n",
       "1306                   PC 17758  108.9000  C105        C  \n",
       "1307         SOTON/O.Q. 3101262    7.2500   NaN        S  \n",
       "1308                     359309    8.0500   NaN        S  \n",
       "1309                       2668   22.3583   NaN        C  "
      ]
     },
     "execution_count": 11,
     "metadata": {},
     "output_type": "execute_result"
    }
   ],
   "source": [
    "test_df.tail()"
   ]
  },
  {
   "cell_type": "markdown",
   "id": "d65a44db",
   "metadata": {
    "papermill": {
     "duration": 0.028591,
     "end_time": "2024-02-03T08:03:08.744922",
     "exception": false,
     "start_time": "2024-02-03T08:03:08.716331",
     "status": "completed"
    },
    "tags": []
   },
   "source": []
  },
  {
   "cell_type": "markdown",
   "id": "51343a90",
   "metadata": {
    "papermill": {
     "duration": 0.028641,
     "end_time": "2024-02-03T08:03:08.802543",
     "exception": false,
     "start_time": "2024-02-03T08:03:08.773902",
     "status": "completed"
    },
    "tags": []
   },
   "source": [
    "**Feature Classification: Categorical vs Numerical**\n",
    "- Categorical: nominal, ordinal,ratio, interval\n",
    "- Numerical: discrete, continous, time series,..."
   ]
  },
  {
   "cell_type": "markdown",
   "id": "f71bbee5",
   "metadata": {
    "papermill": {
     "duration": 0.028752,
     "end_time": "2024-02-03T08:03:08.860369",
     "exception": false,
     "start_time": "2024-02-03T08:03:08.831617",
     "status": "completed"
    },
    "tags": []
   },
   "source": []
  },
  {
   "cell_type": "code",
   "execution_count": 12,
   "id": "a9ef13bf",
   "metadata": {
    "execution": {
     "iopub.execute_input": "2024-02-03T08:03:08.920449Z",
     "iopub.status.busy": "2024-02-03T08:03:08.919697Z",
     "iopub.status.idle": "2024-02-03T08:03:08.942376Z",
     "shell.execute_reply": "2024-02-03T08:03:08.941217Z"
    },
    "papermill": {
     "duration": 0.056231,
     "end_time": "2024-02-03T08:03:08.945454",
     "exception": false,
     "start_time": "2024-02-03T08:03:08.889223",
     "status": "completed"
    },
    "tags": []
   },
   "outputs": [
    {
     "name": "stdout",
     "output_type": "stream",
     "text": [
      "<class 'pandas.core.frame.DataFrame'>\n",
      "Index: 891 entries, 1 to 891\n",
      "Data columns (total 11 columns):\n",
      " #   Column    Non-Null Count  Dtype  \n",
      "---  ------    --------------  -----  \n",
      " 0   Survived  891 non-null    int64  \n",
      " 1   Pclass    891 non-null    int64  \n",
      " 2   Name      891 non-null    object \n",
      " 3   Sex       891 non-null    object \n",
      " 4   Age       714 non-null    float64\n",
      " 5   SibSp     891 non-null    int64  \n",
      " 6   Parch     891 non-null    int64  \n",
      " 7   Ticket    891 non-null    object \n",
      " 8   Fare      891 non-null    float64\n",
      " 9   Cabin     204 non-null    object \n",
      " 10  Embarked  889 non-null    object \n",
      "dtypes: float64(2), int64(4), object(5)\n",
      "memory usage: 83.5+ KB\n"
     ]
    }
   ],
   "source": [
    "train_df.info()"
   ]
  },
  {
   "cell_type": "code",
   "execution_count": 13,
   "id": "f863763a",
   "metadata": {
    "execution": {
     "iopub.execute_input": "2024-02-03T08:03:09.005717Z",
     "iopub.status.busy": "2024-02-03T08:03:09.005281Z",
     "iopub.status.idle": "2024-02-03T08:03:09.019393Z",
     "shell.execute_reply": "2024-02-03T08:03:09.017858Z"
    },
    "papermill": {
     "duration": 0.047188,
     "end_time": "2024-02-03T08:03:09.021820",
     "exception": false,
     "start_time": "2024-02-03T08:03:08.974632",
     "status": "completed"
    },
    "tags": []
   },
   "outputs": [
    {
     "name": "stdout",
     "output_type": "stream",
     "text": [
      "<class 'pandas.core.frame.DataFrame'>\n",
      "Index: 418 entries, 892 to 1309\n",
      "Data columns (total 10 columns):\n",
      " #   Column    Non-Null Count  Dtype  \n",
      "---  ------    --------------  -----  \n",
      " 0   Pclass    418 non-null    int64  \n",
      " 1   Name      418 non-null    object \n",
      " 2   Sex       418 non-null    object \n",
      " 3   Age       332 non-null    float64\n",
      " 4   SibSp     418 non-null    int64  \n",
      " 5   Parch     418 non-null    int64  \n",
      " 6   Ticket    418 non-null    object \n",
      " 7   Fare      417 non-null    float64\n",
      " 8   Cabin     91 non-null     object \n",
      " 9   Embarked  418 non-null    object \n",
      "dtypes: float64(2), int64(3), object(5)\n",
      "memory usage: 35.9+ KB\n"
     ]
    }
   ],
   "source": [
    "test_df.info()"
   ]
  },
  {
   "cell_type": "markdown",
   "id": "1494d7f3",
   "metadata": {
    "papermill": {
     "duration": 0.028825,
     "end_time": "2024-02-03T08:03:09.079834",
     "exception": false,
     "start_time": "2024-02-03T08:03:09.051009",
     "status": "completed"
    },
    "tags": []
   },
   "source": [
    "- Categorical:Survived, Sex, Embarked, Pclass (ordinal), SibSp,Parch\n",
    "- Numerical: Age(continous),Fare (discrete)\n",
    "- Mixtype of data: Ticket, Cabin\n",
    "- Contain error/typo: Name\n",
    "- Blank or Null: Cabin>Age>Embarked\n",
    "- Variou Data Types: String, Int, Float\n",
    "\n"
   ]
  },
  {
   "cell_type": "code",
   "execution_count": 14,
   "id": "d0e18545",
   "metadata": {
    "execution": {
     "iopub.execute_input": "2024-02-03T08:03:09.140919Z",
     "iopub.status.busy": "2024-02-03T08:03:09.139651Z",
     "iopub.status.idle": "2024-02-03T08:03:09.150397Z",
     "shell.execute_reply": "2024-02-03T08:03:09.149217Z"
    },
    "papermill": {
     "duration": 0.043811,
     "end_time": "2024-02-03T08:03:09.152881",
     "exception": false,
     "start_time": "2024-02-03T08:03:09.109070",
     "status": "completed"
    },
    "tags": []
   },
   "outputs": [
    {
     "data": {
      "text/plain": [
       "CategoricalDtype(categories=[0, 1], ordered=False)"
      ]
     },
     "execution_count": 14,
     "metadata": {},
     "output_type": "execute_result"
    }
   ],
   "source": [
    "train_df[\"Survived\"]=train_df[\"Survived\"].astype('category')\n",
    "train_df[\"Survived\"].dtype"
   ]
  },
  {
   "cell_type": "code",
   "execution_count": 15,
   "id": "10744979",
   "metadata": {
    "execution": {
     "iopub.execute_input": "2024-02-03T08:03:09.213173Z",
     "iopub.status.busy": "2024-02-03T08:03:09.212707Z",
     "iopub.status.idle": "2024-02-03T08:03:09.218096Z",
     "shell.execute_reply": "2024-02-03T08:03:09.217016Z"
    },
    "papermill": {
     "duration": 0.038357,
     "end_time": "2024-02-03T08:03:09.220466",
     "exception": false,
     "start_time": "2024-02-03T08:03:09.182109",
     "status": "completed"
    },
    "tags": []
   },
   "outputs": [],
   "source": [
    "converted_features=['Pclass','Parch','Sex','SibSp','Embarked']"
   ]
  },
  {
   "cell_type": "markdown",
   "id": "8ebff08f",
   "metadata": {
    "papermill": {
     "duration": 0.028781,
     "end_time": "2024-02-03T08:03:09.278573",
     "exception": false,
     "start_time": "2024-02-03T08:03:09.249792",
     "status": "completed"
    },
    "tags": []
   },
   "source": []
  },
  {
   "cell_type": "code",
   "execution_count": 16,
   "id": "038ba25d",
   "metadata": {
    "execution": {
     "iopub.execute_input": "2024-02-03T08:03:09.339246Z",
     "iopub.status.busy": "2024-02-03T08:03:09.338363Z",
     "iopub.status.idle": "2024-02-03T08:03:09.358785Z",
     "shell.execute_reply": "2024-02-03T08:03:09.357480Z"
    },
    "papermill": {
     "duration": 0.053856,
     "end_time": "2024-02-03T08:03:09.361514",
     "exception": false,
     "start_time": "2024-02-03T08:03:09.307658",
     "status": "completed"
    },
    "tags": []
   },
   "outputs": [
    {
     "name": "stdout",
     "output_type": "stream",
     "text": [
      "<class 'pandas.core.frame.DataFrame'>\n",
      "Index: 891 entries, 1 to 891\n",
      "Data columns (total 11 columns):\n",
      " #   Column    Non-Null Count  Dtype   \n",
      "---  ------    --------------  -----   \n",
      " 0   Survived  891 non-null    category\n",
      " 1   Pclass    891 non-null    category\n",
      " 2   Name      891 non-null    object  \n",
      " 3   Sex       891 non-null    category\n",
      " 4   Age       714 non-null    float64 \n",
      " 5   SibSp     891 non-null    category\n",
      " 6   Parch     891 non-null    category\n",
      " 7   Ticket    891 non-null    object  \n",
      " 8   Fare      891 non-null    float64 \n",
      " 9   Cabin     204 non-null    object  \n",
      " 10  Embarked  889 non-null    category\n",
      "dtypes: category(6), float64(2), object(3)\n",
      "memory usage: 48.2+ KB\n"
     ]
    }
   ],
   "source": [
    "def convert_cat(df,features):\n",
    "    for feature in features:\n",
    "        df[feature]=df[feature].astype('category')\n",
    "\n",
    "convert_cat(train_df, converted_features)\n",
    "train_df.info()"
   ]
  },
  {
   "cell_type": "code",
   "execution_count": 17,
   "id": "9b1e5f59",
   "metadata": {
    "execution": {
     "iopub.execute_input": "2024-02-03T08:03:09.422518Z",
     "iopub.status.busy": "2024-02-03T08:03:09.421643Z",
     "iopub.status.idle": "2024-02-03T08:03:09.439565Z",
     "shell.execute_reply": "2024-02-03T08:03:09.437878Z"
    },
    "papermill": {
     "duration": 0.051223,
     "end_time": "2024-02-03T08:03:09.442166",
     "exception": false,
     "start_time": "2024-02-03T08:03:09.390943",
     "status": "completed"
    },
    "tags": []
   },
   "outputs": [
    {
     "name": "stdout",
     "output_type": "stream",
     "text": [
      "<class 'pandas.core.frame.DataFrame'>\n",
      "Index: 418 entries, 892 to 1309\n",
      "Data columns (total 10 columns):\n",
      " #   Column    Non-Null Count  Dtype   \n",
      "---  ------    --------------  -----   \n",
      " 0   Pclass    418 non-null    category\n",
      " 1   Name      418 non-null    object  \n",
      " 2   Sex       418 non-null    category\n",
      " 3   Age       332 non-null    float64 \n",
      " 4   SibSp     418 non-null    category\n",
      " 5   Parch     418 non-null    category\n",
      " 6   Ticket    418 non-null    object  \n",
      " 7   Fare      417 non-null    float64 \n",
      " 8   Cabin     91 non-null     object  \n",
      " 9   Embarked  418 non-null    category\n",
      "dtypes: category(5), float64(2), object(3)\n",
      "memory usage: 22.7+ KB\n"
     ]
    }
   ],
   "source": [
    "convert_cat(test_df, converted_features)\n",
    "test_df.info()"
   ]
  },
  {
   "cell_type": "markdown",
   "id": "b2c6d452",
   "metadata": {
    "papermill": {
     "duration": 0.029853,
     "end_time": "2024-02-03T08:03:09.502922",
     "exception": false,
     "start_time": "2024-02-03T08:03:09.473069",
     "status": "completed"
    },
    "tags": []
   },
   "source": [
    "**Distribution of Numerical Data Columns**"
   ]
  },
  {
   "cell_type": "code",
   "execution_count": 18,
   "id": "59dc17d2",
   "metadata": {
    "execution": {
     "iopub.execute_input": "2024-02-03T08:03:09.565950Z",
     "iopub.status.busy": "2024-02-03T08:03:09.565201Z",
     "iopub.status.idle": "2024-02-03T08:03:09.584837Z",
     "shell.execute_reply": "2024-02-03T08:03:09.583626Z"
    },
    "papermill": {
     "duration": 0.053585,
     "end_time": "2024-02-03T08:03:09.587403",
     "exception": false,
     "start_time": "2024-02-03T08:03:09.533818",
     "status": "completed"
    },
    "tags": []
   },
   "outputs": [
    {
     "data": {
      "text/html": [
       "<div>\n",
       "<style scoped>\n",
       "    .dataframe tbody tr th:only-of-type {\n",
       "        vertical-align: middle;\n",
       "    }\n",
       "\n",
       "    .dataframe tbody tr th {\n",
       "        vertical-align: top;\n",
       "    }\n",
       "\n",
       "    .dataframe thead th {\n",
       "        text-align: right;\n",
       "    }\n",
       "</style>\n",
       "<table border=\"1\" class=\"dataframe\">\n",
       "  <thead>\n",
       "    <tr style=\"text-align: right;\">\n",
       "      <th></th>\n",
       "      <th>Age</th>\n",
       "      <th>Fare</th>\n",
       "    </tr>\n",
       "  </thead>\n",
       "  <tbody>\n",
       "    <tr>\n",
       "      <th>count</th>\n",
       "      <td>714.000000</td>\n",
       "      <td>891.000000</td>\n",
       "    </tr>\n",
       "    <tr>\n",
       "      <th>mean</th>\n",
       "      <td>29.699118</td>\n",
       "      <td>32.204208</td>\n",
       "    </tr>\n",
       "    <tr>\n",
       "      <th>std</th>\n",
       "      <td>14.526497</td>\n",
       "      <td>49.693429</td>\n",
       "    </tr>\n",
       "    <tr>\n",
       "      <th>min</th>\n",
       "      <td>0.420000</td>\n",
       "      <td>0.000000</td>\n",
       "    </tr>\n",
       "    <tr>\n",
       "      <th>25%</th>\n",
       "      <td>20.125000</td>\n",
       "      <td>7.910400</td>\n",
       "    </tr>\n",
       "    <tr>\n",
       "      <th>50%</th>\n",
       "      <td>28.000000</td>\n",
       "      <td>14.454200</td>\n",
       "    </tr>\n",
       "    <tr>\n",
       "      <th>75%</th>\n",
       "      <td>38.000000</td>\n",
       "      <td>31.000000</td>\n",
       "    </tr>\n",
       "    <tr>\n",
       "      <th>max</th>\n",
       "      <td>80.000000</td>\n",
       "      <td>512.329200</td>\n",
       "    </tr>\n",
       "  </tbody>\n",
       "</table>\n",
       "</div>"
      ],
      "text/plain": [
       "              Age        Fare\n",
       "count  714.000000  891.000000\n",
       "mean    29.699118   32.204208\n",
       "std     14.526497   49.693429\n",
       "min      0.420000    0.000000\n",
       "25%     20.125000    7.910400\n",
       "50%     28.000000   14.454200\n",
       "75%     38.000000   31.000000\n",
       "max     80.000000  512.329200"
      ]
     },
     "execution_count": 18,
     "metadata": {},
     "output_type": "execute_result"
    }
   ],
   "source": [
    "train_df.describe()"
   ]
  },
  {
   "cell_type": "code",
   "execution_count": 19,
   "id": "cdf8e21d",
   "metadata": {
    "execution": {
     "iopub.execute_input": "2024-02-03T08:03:09.649462Z",
     "iopub.status.busy": "2024-02-03T08:03:09.648688Z",
     "iopub.status.idle": "2024-02-03T08:03:09.667346Z",
     "shell.execute_reply": "2024-02-03T08:03:09.666537Z"
    },
    "papermill": {
     "duration": 0.052145,
     "end_time": "2024-02-03T08:03:09.669622",
     "exception": false,
     "start_time": "2024-02-03T08:03:09.617477",
     "status": "completed"
    },
    "tags": []
   },
   "outputs": [
    {
     "data": {
      "text/html": [
       "<div>\n",
       "<style scoped>\n",
       "    .dataframe tbody tr th:only-of-type {\n",
       "        vertical-align: middle;\n",
       "    }\n",
       "\n",
       "    .dataframe tbody tr th {\n",
       "        vertical-align: top;\n",
       "    }\n",
       "\n",
       "    .dataframe thead th {\n",
       "        text-align: right;\n",
       "    }\n",
       "</style>\n",
       "<table border=\"1\" class=\"dataframe\">\n",
       "  <thead>\n",
       "    <tr style=\"text-align: right;\">\n",
       "      <th></th>\n",
       "      <th>Age</th>\n",
       "      <th>Fare</th>\n",
       "    </tr>\n",
       "  </thead>\n",
       "  <tbody>\n",
       "    <tr>\n",
       "      <th>count</th>\n",
       "      <td>332.000000</td>\n",
       "      <td>417.000000</td>\n",
       "    </tr>\n",
       "    <tr>\n",
       "      <th>mean</th>\n",
       "      <td>30.272590</td>\n",
       "      <td>35.627188</td>\n",
       "    </tr>\n",
       "    <tr>\n",
       "      <th>std</th>\n",
       "      <td>14.181209</td>\n",
       "      <td>55.907576</td>\n",
       "    </tr>\n",
       "    <tr>\n",
       "      <th>min</th>\n",
       "      <td>0.170000</td>\n",
       "      <td>0.000000</td>\n",
       "    </tr>\n",
       "    <tr>\n",
       "      <th>25%</th>\n",
       "      <td>21.000000</td>\n",
       "      <td>7.895800</td>\n",
       "    </tr>\n",
       "    <tr>\n",
       "      <th>50%</th>\n",
       "      <td>27.000000</td>\n",
       "      <td>14.454200</td>\n",
       "    </tr>\n",
       "    <tr>\n",
       "      <th>75%</th>\n",
       "      <td>39.000000</td>\n",
       "      <td>31.500000</td>\n",
       "    </tr>\n",
       "    <tr>\n",
       "      <th>max</th>\n",
       "      <td>76.000000</td>\n",
       "      <td>512.329200</td>\n",
       "    </tr>\n",
       "  </tbody>\n",
       "</table>\n",
       "</div>"
      ],
      "text/plain": [
       "              Age        Fare\n",
       "count  332.000000  417.000000\n",
       "mean    30.272590   35.627188\n",
       "std     14.181209   55.907576\n",
       "min      0.170000    0.000000\n",
       "25%     21.000000    7.895800\n",
       "50%     27.000000   14.454200\n",
       "75%     39.000000   31.500000\n",
       "max     76.000000  512.329200"
      ]
     },
     "execution_count": 19,
     "metadata": {},
     "output_type": "execute_result"
    }
   ],
   "source": [
    "test_df.describe()"
   ]
  },
  {
   "cell_type": "markdown",
   "id": "75db6eec",
   "metadata": {
    "papermill": {
     "duration": 0.030108,
     "end_time": "2024-02-03T08:03:09.730319",
     "exception": false,
     "start_time": "2024-02-03T08:03:09.700211",
     "status": "completed"
    },
    "tags": []
   },
   "source": [
    "**Distribution of Categorical Data Columns**\n"
   ]
  },
  {
   "cell_type": "code",
   "execution_count": 20,
   "id": "fe15de99",
   "metadata": {
    "execution": {
     "iopub.execute_input": "2024-02-03T08:03:09.792810Z",
     "iopub.status.busy": "2024-02-03T08:03:09.792380Z",
     "iopub.status.idle": "2024-02-03T08:03:09.817608Z",
     "shell.execute_reply": "2024-02-03T08:03:09.816346Z"
    },
    "papermill": {
     "duration": 0.059727,
     "end_time": "2024-02-03T08:03:09.820263",
     "exception": false,
     "start_time": "2024-02-03T08:03:09.760536",
     "status": "completed"
    },
    "tags": []
   },
   "outputs": [
    {
     "data": {
      "text/html": [
       "<div>\n",
       "<style scoped>\n",
       "    .dataframe tbody tr th:only-of-type {\n",
       "        vertical-align: middle;\n",
       "    }\n",
       "\n",
       "    .dataframe tbody tr th {\n",
       "        vertical-align: top;\n",
       "    }\n",
       "\n",
       "    .dataframe thead th {\n",
       "        text-align: right;\n",
       "    }\n",
       "</style>\n",
       "<table border=\"1\" class=\"dataframe\">\n",
       "  <thead>\n",
       "    <tr style=\"text-align: right;\">\n",
       "      <th></th>\n",
       "      <th>Survived</th>\n",
       "      <th>Pclass</th>\n",
       "      <th>Sex</th>\n",
       "      <th>SibSp</th>\n",
       "      <th>Parch</th>\n",
       "      <th>Embarked</th>\n",
       "    </tr>\n",
       "  </thead>\n",
       "  <tbody>\n",
       "    <tr>\n",
       "      <th>count</th>\n",
       "      <td>891</td>\n",
       "      <td>891</td>\n",
       "      <td>891</td>\n",
       "      <td>891</td>\n",
       "      <td>891</td>\n",
       "      <td>889</td>\n",
       "    </tr>\n",
       "    <tr>\n",
       "      <th>unique</th>\n",
       "      <td>2</td>\n",
       "      <td>3</td>\n",
       "      <td>2</td>\n",
       "      <td>7</td>\n",
       "      <td>7</td>\n",
       "      <td>3</td>\n",
       "    </tr>\n",
       "    <tr>\n",
       "      <th>top</th>\n",
       "      <td>0</td>\n",
       "      <td>3</td>\n",
       "      <td>male</td>\n",
       "      <td>0</td>\n",
       "      <td>0</td>\n",
       "      <td>S</td>\n",
       "    </tr>\n",
       "    <tr>\n",
       "      <th>freq</th>\n",
       "      <td>549</td>\n",
       "      <td>491</td>\n",
       "      <td>577</td>\n",
       "      <td>608</td>\n",
       "      <td>678</td>\n",
       "      <td>644</td>\n",
       "    </tr>\n",
       "  </tbody>\n",
       "</table>\n",
       "</div>"
      ],
      "text/plain": [
       "        Survived  Pclass   Sex  SibSp  Parch Embarked\n",
       "count        891     891   891    891    891      889\n",
       "unique         2       3     2      7      7        3\n",
       "top            0       3  male      0      0        S\n",
       "freq         549     491   577    608    678      644"
      ]
     },
     "execution_count": 20,
     "metadata": {},
     "output_type": "execute_result"
    }
   ],
   "source": [
    "train_df.describe(include=['category'])"
   ]
  },
  {
   "cell_type": "markdown",
   "id": "bcabf244",
   "metadata": {
    "papermill": {
     "duration": 0.030695,
     "end_time": "2024-02-03T08:03:09.881355",
     "exception": false,
     "start_time": "2024-02-03T08:03:09.850660",
     "status": "completed"
    },
    "tags": []
   },
   "source": [
    "## **EDA (Exploratory Data Analysis)**"
   ]
  },
  {
   "cell_type": "markdown",
   "id": "15028b37",
   "metadata": {
    "papermill": {
     "duration": 0.030337,
     "end_time": "2024-02-03T08:03:09.941880",
     "exception": false,
     "start_time": "2024-02-03T08:03:09.911543",
     "status": "completed"
    },
    "tags": []
   },
   "source": [
    "# target variable : Survived"
   ]
  },
  {
   "cell_type": "code",
   "execution_count": 21,
   "id": "4e18262f",
   "metadata": {
    "execution": {
     "iopub.execute_input": "2024-02-03T08:03:10.006944Z",
     "iopub.status.busy": "2024-02-03T08:03:10.006304Z",
     "iopub.status.idle": "2024-02-03T08:03:10.016347Z",
     "shell.execute_reply": "2024-02-03T08:03:10.015202Z"
    },
    "papermill": {
     "duration": 0.046106,
     "end_time": "2024-02-03T08:03:10.019178",
     "exception": false,
     "start_time": "2024-02-03T08:03:09.973072",
     "status": "completed"
    },
    "tags": []
   },
   "outputs": [
    {
     "data": {
      "text/html": [
       "<div>\n",
       "<style scoped>\n",
       "    .dataframe tbody tr th:only-of-type {\n",
       "        vertical-align: middle;\n",
       "    }\n",
       "\n",
       "    .dataframe tbody tr th {\n",
       "        vertical-align: top;\n",
       "    }\n",
       "\n",
       "    .dataframe thead th {\n",
       "        text-align: right;\n",
       "    }\n",
       "</style>\n",
       "<table border=\"1\" class=\"dataframe\">\n",
       "  <thead>\n",
       "    <tr style=\"text-align: right;\">\n",
       "      <th></th>\n",
       "      <th>count</th>\n",
       "    </tr>\n",
       "    <tr>\n",
       "      <th>Survived</th>\n",
       "      <th></th>\n",
       "    </tr>\n",
       "  </thead>\n",
       "  <tbody>\n",
       "    <tr>\n",
       "      <th>0</th>\n",
       "      <td>549</td>\n",
       "    </tr>\n",
       "    <tr>\n",
       "      <th>1</th>\n",
       "      <td>342</td>\n",
       "    </tr>\n",
       "  </tbody>\n",
       "</table>\n",
       "</div>"
      ],
      "text/plain": [
       "          count\n",
       "Survived       \n",
       "0           549\n",
       "1           342"
      ]
     },
     "execution_count": 21,
     "metadata": {},
     "output_type": "execute_result"
    }
   ],
   "source": [
    "train_df[\"Survived\"].value_counts().to_frame()"
   ]
  },
  {
   "cell_type": "code",
   "execution_count": 22,
   "id": "daa6db87",
   "metadata": {
    "execution": {
     "iopub.execute_input": "2024-02-03T08:03:10.083300Z",
     "iopub.status.busy": "2024-02-03T08:03:10.082872Z",
     "iopub.status.idle": "2024-02-03T08:03:10.094140Z",
     "shell.execute_reply": "2024-02-03T08:03:10.093319Z"
    },
    "papermill": {
     "duration": 0.045899,
     "end_time": "2024-02-03T08:03:10.096256",
     "exception": false,
     "start_time": "2024-02-03T08:03:10.050357",
     "status": "completed"
    },
    "tags": []
   },
   "outputs": [
    {
     "data": {
      "text/html": [
       "<div>\n",
       "<style scoped>\n",
       "    .dataframe tbody tr th:only-of-type {\n",
       "        vertical-align: middle;\n",
       "    }\n",
       "\n",
       "    .dataframe tbody tr th {\n",
       "        vertical-align: top;\n",
       "    }\n",
       "\n",
       "    .dataframe thead th {\n",
       "        text-align: right;\n",
       "    }\n",
       "</style>\n",
       "<table border=\"1\" class=\"dataframe\">\n",
       "  <thead>\n",
       "    <tr style=\"text-align: right;\">\n",
       "      <th></th>\n",
       "      <th>proportion</th>\n",
       "    </tr>\n",
       "    <tr>\n",
       "      <th>Survived</th>\n",
       "      <th></th>\n",
       "    </tr>\n",
       "  </thead>\n",
       "  <tbody>\n",
       "    <tr>\n",
       "      <th>0</th>\n",
       "      <td>0.616162</td>\n",
       "    </tr>\n",
       "    <tr>\n",
       "      <th>1</th>\n",
       "      <td>0.383838</td>\n",
       "    </tr>\n",
       "  </tbody>\n",
       "</table>\n",
       "</div>"
      ],
      "text/plain": [
       "          proportion\n",
       "Survived            \n",
       "0           0.616162\n",
       "1           0.383838"
      ]
     },
     "execution_count": 22,
     "metadata": {},
     "output_type": "execute_result"
    }
   ],
   "source": [
    "train_df[\"Survived\"].value_counts(normalize=True).to_frame()"
   ]
  },
  {
   "cell_type": "code",
   "execution_count": 23,
   "id": "82b5c373",
   "metadata": {
    "execution": {
     "iopub.execute_input": "2024-02-03T08:03:10.159918Z",
     "iopub.status.busy": "2024-02-03T08:03:10.159178Z",
     "iopub.status.idle": "2024-02-03T08:03:10.170049Z",
     "shell.execute_reply": "2024-02-03T08:03:10.168961Z"
    },
    "papermill": {
     "duration": 0.045287,
     "end_time": "2024-02-03T08:03:10.172348",
     "exception": false,
     "start_time": "2024-02-03T08:03:10.127061",
     "status": "completed"
    },
    "tags": []
   },
   "outputs": [
    {
     "data": {
      "text/html": [
       "<div>\n",
       "<style scoped>\n",
       "    .dataframe tbody tr th:only-of-type {\n",
       "        vertical-align: middle;\n",
       "    }\n",
       "\n",
       "    .dataframe tbody tr th {\n",
       "        vertical-align: top;\n",
       "    }\n",
       "\n",
       "    .dataframe thead th {\n",
       "        text-align: right;\n",
       "    }\n",
       "</style>\n",
       "<table border=\"1\" class=\"dataframe\">\n",
       "  <thead>\n",
       "    <tr style=\"text-align: right;\">\n",
       "      <th></th>\n",
       "      <th>proportion</th>\n",
       "    </tr>\n",
       "    <tr>\n",
       "      <th>Sex</th>\n",
       "      <th></th>\n",
       "    </tr>\n",
       "  </thead>\n",
       "  <tbody>\n",
       "    <tr>\n",
       "      <th>male</th>\n",
       "      <td>0.647587</td>\n",
       "    </tr>\n",
       "    <tr>\n",
       "      <th>female</th>\n",
       "      <td>0.352413</td>\n",
       "    </tr>\n",
       "  </tbody>\n",
       "</table>\n",
       "</div>"
      ],
      "text/plain": [
       "        proportion\n",
       "Sex               \n",
       "male      0.647587\n",
       "female    0.352413"
      ]
     },
     "execution_count": 23,
     "metadata": {},
     "output_type": "execute_result"
    }
   ],
   "source": [
    "## Sex\n",
    "train_df[\"Sex\"].value_counts(normalize=True).to_frame()"
   ]
  },
  {
   "cell_type": "code",
   "execution_count": 24,
   "id": "79f933db",
   "metadata": {
    "execution": {
     "iopub.execute_input": "2024-02-03T08:03:10.236713Z",
     "iopub.status.busy": "2024-02-03T08:03:10.236257Z",
     "iopub.status.idle": "2024-02-03T08:03:11.726979Z",
     "shell.execute_reply": "2024-02-03T08:03:11.725916Z"
    },
    "papermill": {
     "duration": 1.526796,
     "end_time": "2024-02-03T08:03:11.729856",
     "exception": false,
     "start_time": "2024-02-03T08:03:10.203060",
     "status": "completed"
    },
    "tags": []
   },
   "outputs": [],
   "source": [
    "## Seaborn\n",
    "import seaborn as sns"
   ]
  },
  {
   "cell_type": "code",
   "execution_count": 25,
   "id": "447ee5b5",
   "metadata": {
    "execution": {
     "iopub.execute_input": "2024-02-03T08:03:11.795063Z",
     "iopub.status.busy": "2024-02-03T08:03:11.794656Z",
     "iopub.status.idle": "2024-02-03T08:03:12.003839Z",
     "shell.execute_reply": "2024-02-03T08:03:12.002546Z"
    },
    "papermill": {
     "duration": 0.246011,
     "end_time": "2024-02-03T08:03:12.007361",
     "exception": false,
     "start_time": "2024-02-03T08:03:11.761350",
     "status": "completed"
    },
    "tags": []
   },
   "outputs": [
    {
     "data": {
      "text/plain": [
       "<Axes: xlabel='Sex', ylabel='count'>"
      ]
     },
     "execution_count": 25,
     "metadata": {},
     "output_type": "execute_result"
    },
    {
     "data": {
      "image/png": "[encoded data removed]",
      "text/plain": [
       "<Figure size 640x480 with 1 Axes>"
      ]
     },
     "metadata": {},
     "output_type": "display_data"
    }
   ],
   "source": [
    "sns.countplot(data=train_df,x=\"Sex\")"
   ]
  },
  {
   "cell_type": "code",
   "execution_count": 26,
   "id": "fd291c81",
   "metadata": {
    "execution": {
     "iopub.execute_input": "2024-02-03T08:03:12.075245Z",
     "iopub.status.busy": "2024-02-03T08:03:12.074307Z",
     "iopub.status.idle": "2024-02-03T08:03:12.256293Z",
     "shell.execute_reply": "2024-02-03T08:03:12.255051Z"
    },
    "papermill": {
     "duration": 0.219007,
     "end_time": "2024-02-03T08:03:12.259276",
     "exception": false,
     "start_time": "2024-02-03T08:03:12.040269",
     "status": "completed"
    },
    "tags": []
   },
   "outputs": [
    {
     "data": {
      "text/plain": [
       "<Axes: xlabel='Sex', ylabel='count'>"
      ]
     },
     "execution_count": 26,
     "metadata": {},
     "output_type": "execute_result"
    },
    {
     "data": {
      "image/png": "[encoded data removed]",
      "text/plain": [
       "<Figure size 640x480 with 1 Axes>"
      ]
     },
     "metadata": {},
     "output_type": "display_data"
    }
   ],
   "source": [
    "sns.countplot(data=train_df,x=\"Sex\",palette=\"Blues\")"
   ]
  },
  {
   "cell_type": "code",
   "execution_count": 27,
   "id": "a236e712",
   "metadata": {
    "execution": {
     "iopub.execute_input": "2024-02-03T08:03:12.325431Z",
     "iopub.status.busy": "2024-02-03T08:03:12.324971Z",
     "iopub.status.idle": "2024-02-03T08:03:12.536369Z",
     "shell.execute_reply": "2024-02-03T08:03:12.535165Z"
    },
    "papermill": {
     "duration": 0.247555,
     "end_time": "2024-02-03T08:03:12.538825",
     "exception": false,
     "start_time": "2024-02-03T08:03:12.291270",
     "status": "completed"
    },
    "tags": []
   },
   "outputs": [
    {
     "data": {
      "text/plain": [
       "<Axes: xlabel='Sex', ylabel='count'>"
      ]
     },
     "execution_count": 27,
     "metadata": {},
     "output_type": "execute_result"
    },
    {
     "data": {
      "image/png": "[encoded data removed]",
      "text/plain": [
       "<Figure size 640x480 with 1 Axes>"
      ]
     },
     "metadata": {},
     "output_type": "display_data"
    }
   ],
   "source": [
    "sns.countplot(data=train_df,x=\"Sex\",hue=\"Survived\",palette=\"Blues\")"
   ]
  },
  {
   "cell_type": "code",
   "execution_count": 28,
   "id": "4e15a5fa",
   "metadata": {
    "execution": {
     "iopub.execute_input": "2024-02-03T08:03:12.607088Z",
     "iopub.status.busy": "2024-02-03T08:03:12.606635Z",
     "iopub.status.idle": "2024-02-03T08:03:13.949246Z",
     "shell.execute_reply": "2024-02-03T08:03:13.947981Z"
    },
    "papermill": {
     "duration": 1.380386,
     "end_time": "2024-02-03T08:03:13.952539",
     "exception": false,
     "start_time": "2024-02-03T08:03:12.572153",
     "status": "completed"
    },
    "tags": []
   },
   "outputs": [
    {
     "data": {
      "image/png": "[encoded data removed]",
      "text/plain": [
       "<Figure size 1050x700 with 6 Axes>"
      ]
     },
     "metadata": {},
     "output_type": "display_data"
    }
   ],
   "source": [
    "import matplotlib.pyplot as plt\n",
    "# Plot 5 ax_ subplot to visualize the correlation between target (predict feature) and category features\n",
    "cols=[\"Sex\",'Pclass','Parch','SibSp','Embarked']\n",
    "n_rows=2\n",
    "n_cols=3\n",
    "fig,ax=plt.subplots(n_rows,n_cols,figsize=(n_cols*3.5,n_rows*3.5))\n",
    "\n",
    "for r in range(0,n_rows):\n",
    "    for c in range(0,n_cols):\n",
    "        i=r*n_cols+c # index to loop through list cols\n",
    "        if i <len(cols):\n",
    "            ax_i=ax[r,c]\n",
    "            sns.countplot(data=train_df,x=cols[i],hue=\"Survived\",palette='Blues',ax=ax_i)\n",
    "            ax_i.set_title(f'Figure {i+1}: Survival rate vs {cols[i]}')\n",
    "            ax_i.legend(title='',loc='upper right',labels=[\"Not Survived\",\"Survived\"])\n",
    "ax.flat[-1].set_visible(False) # Remove the last figure - subplot nodata\n",
    "plt.tight_layout()\n",
    "plt.show()\n"
   ]
  },
  {
   "cell_type": "markdown",
   "id": "2f6382c9",
   "metadata": {
    "papermill": {
     "duration": 0.037239,
     "end_time": "2024-02-03T08:03:14.023917",
     "exception": false,
     "start_time": "2024-02-03T08:03:13.986678",
     "status": "completed"
    },
    "tags": []
   },
   "source": [
    "## EDA for Numerical Features\n"
   ]
  },
  {
   "cell_type": "code",
   "execution_count": 29,
   "id": "9da29caa",
   "metadata": {
    "execution": {
     "iopub.execute_input": "2024-02-03T08:03:14.093454Z",
     "iopub.status.busy": "2024-02-03T08:03:14.092916Z",
     "iopub.status.idle": "2024-02-03T08:03:14.524853Z",
     "shell.execute_reply": "2024-02-03T08:03:14.523542Z"
    },
    "papermill": {
     "duration": 0.470143,
     "end_time": "2024-02-03T08:03:14.527933",
     "exception": false,
     "start_time": "2024-02-03T08:03:14.057790",
     "status": "completed"
    },
    "tags": []
   },
   "outputs": [
    {
     "data": {
      "text/plain": [
       "<Axes: xlabel='Age', ylabel='Count'>"
      ]
     },
     "execution_count": 29,
     "metadata": {},
     "output_type": "execute_result"
    },
    {
     "data": {
      "image/png": "[encoded data removed]",
      "text/plain": [
       "<Figure size 640x480 with 1 Axes>"
      ]
     },
     "metadata": {},
     "output_type": "display_data"
    }
   ],
   "source": [
    "#Age\n",
    "sns.histplot(data=train_df,x=\"Age\",bins=40,kde=True)"
   ]
  },
  {
   "cell_type": "code",
   "execution_count": 30,
   "id": "4ac29c9e",
   "metadata": {
    "execution": {
     "iopub.execute_input": "2024-02-03T08:03:14.599577Z",
     "iopub.status.busy": "2024-02-03T08:03:14.598686Z",
     "iopub.status.idle": "2024-02-03T08:03:15.226411Z",
     "shell.execute_reply": "2024-02-03T08:03:15.225147Z"
    },
    "papermill": {
     "duration": 0.66723,
     "end_time": "2024-02-03T08:03:15.229561",
     "exception": false,
     "start_time": "2024-02-03T08:03:14.562331",
     "status": "completed"
    },
    "tags": []
   },
   "outputs": [
    {
     "data": {
      "text/plain": [
       "<Axes: xlabel='Age', ylabel='Count'>"
      ]
     },
     "execution_count": 30,
     "metadata": {},
     "output_type": "execute_result"
    },
    {
     "data": {
      "image/png": "[encoded data removed]",
      "text/plain": [
       "<Figure size 640x480 with 1 Axes>"
      ]
     },
     "metadata": {},
     "output_type": "display_data"
    }
   ],
   "source": [
    "sns.histplot(data=train_df,x=\"Age\",hue=\"Survived\",bins=40,kde=True)"
   ]
  },
  {
   "cell_type": "code",
   "execution_count": 31,
   "id": "0d796162",
   "metadata": {
    "execution": {
     "iopub.execute_input": "2024-02-03T08:03:15.304486Z",
     "iopub.status.busy": "2024-02-03T08:03:15.303520Z",
     "iopub.status.idle": "2024-02-03T08:03:15.316263Z",
     "shell.execute_reply": "2024-02-03T08:03:15.314908Z"
    },
    "papermill": {
     "duration": 0.053812,
     "end_time": "2024-02-03T08:03:15.319015",
     "exception": false,
     "start_time": "2024-02-03T08:03:15.265203",
     "status": "completed"
    },
    "tags": []
   },
   "outputs": [
    {
     "data": {
      "text/plain": [
       "count    891.000000\n",
       "mean      32.204208\n",
       "std       49.693429\n",
       "min        0.000000\n",
       "25%        7.910400\n",
       "50%       14.454200\n",
       "75%       31.000000\n",
       "max      512.329200\n",
       "Name: Fare, dtype: float64"
      ]
     },
     "execution_count": 31,
     "metadata": {},
     "output_type": "execute_result"
    }
   ],
   "source": [
    "# Fare\n",
    "train_df[\"Fare\"].describe()"
   ]
  },
  {
   "cell_type": "code",
   "execution_count": 32,
   "id": "f7ee520e",
   "metadata": {
    "execution": {
     "iopub.execute_input": "2024-02-03T08:03:15.392180Z",
     "iopub.status.busy": "2024-02-03T08:03:15.391250Z",
     "iopub.status.idle": "2024-02-03T08:03:15.990793Z",
     "shell.execute_reply": "2024-02-03T08:03:15.989626Z"
    },
    "papermill": {
     "duration": 0.639406,
     "end_time": "2024-02-03T08:03:15.993669",
     "exception": false,
     "start_time": "2024-02-03T08:03:15.354263",
     "status": "completed"
    },
    "tags": []
   },
   "outputs": [
    {
     "data": {
      "text/plain": [
       "<Axes: xlabel='Fare', ylabel='Count'>"
      ]
     },
     "execution_count": 32,
     "metadata": {},
     "output_type": "execute_result"
    },
    {
     "data": {
      "image/png": "[encoded data removed]",
      "text/plain": [
       "<Figure size 640x480 with 1 Axes>"
      ]
     },
     "metadata": {},
     "output_type": "display_data"
    }
   ],
   "source": [
    "sns.histplot(data=train_df,x=\"Fare\",hue=\"Survived\",bins=40,kde=True,palette=\"Blues\")"
   ]
  },
  {
   "cell_type": "code",
   "execution_count": 33,
   "id": "1642f8da",
   "metadata": {
    "execution": {
     "iopub.execute_input": "2024-02-03T08:03:16.067924Z",
     "iopub.status.busy": "2024-02-03T08:03:16.067230Z",
     "iopub.status.idle": "2024-02-03T08:03:16.085524Z",
     "shell.execute_reply": "2024-02-03T08:03:16.084391Z"
    },
    "papermill": {
     "duration": 0.05891,
     "end_time": "2024-02-03T08:03:16.088279",
     "exception": false,
     "start_time": "2024-02-03T08:03:16.029369",
     "status": "completed"
    },
    "tags": []
   },
   "outputs": [
    {
     "data": {
      "text/plain": [
       "PassengerId\n",
       "1       (-0.001, 7.91]\n",
       "2      (31.0, 512.329]\n",
       "3       (7.91, 14.454]\n",
       "4      (31.0, 512.329]\n",
       "5       (7.91, 14.454]\n",
       "            ...       \n",
       "887     (7.91, 14.454]\n",
       "888     (14.454, 31.0]\n",
       "889     (14.454, 31.0]\n",
       "890     (14.454, 31.0]\n",
       "891     (-0.001, 7.91]\n",
       "Name: Fare, Length: 891, dtype: category\n",
       "Categories (4, interval[float64, right]): [(-0.001, 7.91] < (7.91, 14.454] < (14.454, 31.0] < (31.0, 512.329]]"
      ]
     },
     "execution_count": 33,
     "metadata": {},
     "output_type": "execute_result"
    }
   ],
   "source": [
    "# qcut quartile: 0-25,25-50,50-75,75-100%\n",
    "pd.qcut(train_df['Fare'],4)"
   ]
  },
  {
   "cell_type": "code",
   "execution_count": 34,
   "id": "14537ce2",
   "metadata": {
    "execution": {
     "iopub.execute_input": "2024-02-03T08:03:16.162781Z",
     "iopub.status.busy": "2024-02-03T08:03:16.162381Z",
     "iopub.status.idle": "2024-02-03T08:03:16.171298Z",
     "shell.execute_reply": "2024-02-03T08:03:16.169947Z"
    },
    "papermill": {
     "duration": 0.04904,
     "end_time": "2024-02-03T08:03:16.173989",
     "exception": false,
     "start_time": "2024-02-03T08:03:16.124949",
     "status": "completed"
    },
    "tags": []
   },
   "outputs": [
    {
     "data": {
      "text/plain": [
       "PassengerId\n",
       "1       7.2500\n",
       "2      71.2833\n",
       "3       7.9250\n",
       "4      53.1000\n",
       "5       8.0500\n",
       "        ...   \n",
       "887    13.0000\n",
       "888    30.0000\n",
       "889    23.4500\n",
       "890    30.0000\n",
       "891     7.7500\n",
       "Name: Fare, Length: 891, dtype: float64"
      ]
     },
     "execution_count": 34,
     "metadata": {},
     "output_type": "execute_result"
    }
   ],
   "source": [
    "train_df['Fare']"
   ]
  },
  {
   "cell_type": "code",
   "execution_count": 35,
   "id": "4bb83ce9",
   "metadata": {
    "execution": {
     "iopub.execute_input": "2024-02-03T08:03:16.248890Z",
     "iopub.status.busy": "2024-02-03T08:03:16.248498Z",
     "iopub.status.idle": "2024-02-03T08:03:16.262020Z",
     "shell.execute_reply": "2024-02-03T08:03:16.260758Z"
    },
    "papermill": {
     "duration": 0.053952,
     "end_time": "2024-02-03T08:03:16.264727",
     "exception": false,
     "start_time": "2024-02-03T08:03:16.210775",
     "status": "completed"
    },
    "tags": []
   },
   "outputs": [
    {
     "data": {
      "text/plain": [
       "PassengerId\n",
       "1       Economic\n",
       "2         Luxury\n",
       "3       Standard\n",
       "4         Luxury\n",
       "5       Standard\n",
       "         ...    \n",
       "887     Standard\n",
       "888    Expensive\n",
       "889    Expensive\n",
       "890    Expensive\n",
       "891     Economic\n",
       "Name: Fare, Length: 891, dtype: category\n",
       "Categories (4, object): ['Economic' < 'Standard' < 'Expensive' < 'Luxury']"
      ]
     },
     "execution_count": 35,
     "metadata": {},
     "output_type": "execute_result"
    }
   ],
   "source": [
    "# qcut quartile: 0-25,25-50,50-75,75-100%\n",
    "fare_categories=['Economic','Standard','Expensive','Luxury']\n",
    "quartile_data=pd.qcut(train_df['Fare'],4,labels=fare_categories)\n",
    "quartile_data"
   ]
  },
  {
   "cell_type": "code",
   "execution_count": 36,
   "id": "7117b529",
   "metadata": {
    "execution": {
     "iopub.execute_input": "2024-02-03T08:03:16.340799Z",
     "iopub.status.busy": "2024-02-03T08:03:16.340382Z",
     "iopub.status.idle": "2024-02-03T08:03:16.589347Z",
     "shell.execute_reply": "2024-02-03T08:03:16.587943Z"
    },
    "papermill": {
     "duration": 0.291065,
     "end_time": "2024-02-03T08:03:16.592255",
     "exception": false,
     "start_time": "2024-02-03T08:03:16.301190",
     "status": "completed"
    },
    "tags": []
   },
   "outputs": [
    {
     "data": {
      "text/plain": [
       "<Axes: xlabel='Fare', ylabel='count'>"
      ]
     },
     "execution_count": 36,
     "metadata": {},
     "output_type": "execute_result"
    },
    {
     "data": {
      "image/png": "[encoded data removed]",
      "text/plain": [
       "<Figure size 640x480 with 1 Axes>"
      ]
     },
     "metadata": {},
     "output_type": "display_data"
    }
   ],
   "source": [
    "sns.countplot(x=quartile_data)"
   ]
  },
  {
   "cell_type": "code",
   "execution_count": 37,
   "id": "4fac242c",
   "metadata": {
    "execution": {
     "iopub.execute_input": "2024-02-03T08:03:16.667811Z",
     "iopub.status.busy": "2024-02-03T08:03:16.667408Z",
     "iopub.status.idle": "2024-02-03T08:03:16.992597Z",
     "shell.execute_reply": "2024-02-03T08:03:16.991408Z"
    },
    "papermill": {
     "duration": 0.366365,
     "end_time": "2024-02-03T08:03:16.995348",
     "exception": false,
     "start_time": "2024-02-03T08:03:16.628983",
     "status": "completed"
    },
    "tags": []
   },
   "outputs": [
    {
     "data": {
      "text/plain": [
       "<Axes: xlabel='Fare', ylabel='count'>"
      ]
     },
     "execution_count": 37,
     "metadata": {},
     "output_type": "execute_result"
    },
    {
     "data": {
      "image/png": "[encoded data removed]",
      "text/plain": [
       "<Figure size 640x480 with 1 Axes>"
      ]
     },
     "metadata": {},
     "output_type": "display_data"
    }
   ],
   "source": [
    "sns.countplot(x=quartile_data,hue=train_df[\"Survived\"],palette=\"Blues\")"
   ]
  },
  {
   "cell_type": "markdown",
   "id": "53d395ea",
   "metadata": {
    "papermill": {
     "duration": 0.037817,
     "end_time": "2024-02-03T08:03:17.070880",
     "exception": false,
     "start_time": "2024-02-03T08:03:17.033063",
     "status": "completed"
    },
    "tags": []
   },
   "source": [
    "### Feature Engineering & Data Wrangling"
   ]
  },
  {
   "cell_type": "code",
   "execution_count": 38,
   "id": "c71eed30",
   "metadata": {
    "execution": {
     "iopub.execute_input": "2024-02-03T08:03:17.148841Z",
     "iopub.status.busy": "2024-02-03T08:03:17.148388Z",
     "iopub.status.idle": "2024-02-03T08:03:17.156770Z",
     "shell.execute_reply": "2024-02-03T08:03:17.155924Z"
    },
    "papermill": {
     "duration": 0.050813,
     "end_time": "2024-02-03T08:03:17.159209",
     "exception": false,
     "start_time": "2024-02-03T08:03:17.108396",
     "status": "completed"
    },
    "tags": []
   },
   "outputs": [
    {
     "data": {
      "text/plain": [
       "PassengerId\n",
       "1                               Braund, Mr. Owen Harris\n",
       "2     Cumings, Mrs. John Bradley (Florence Briggs Th...\n",
       "3                                Heikkinen, Miss. Laina\n",
       "4          Futrelle, Mrs. Jacques Heath (Lily May Peel)\n",
       "5                              Allen, Mr. William Henry\n",
       "6                                      Moran, Mr. James\n",
       "7                               McCarthy, Mr. Timothy J\n",
       "8                        Palsson, Master. Gosta Leonard\n",
       "9     Johnson, Mrs. Oscar W (Elisabeth Vilhelmina Berg)\n",
       "10                  Nasser, Mrs. Nicholas (Adele Achem)\n",
       "Name: Name, dtype: object"
      ]
     },
     "execution_count": 38,
     "metadata": {},
     "output_type": "execute_result"
    }
   ],
   "source": [
    "# Name\n",
    "train_df[\"Name\"].head(10)"
   ]
  },
  {
   "cell_type": "code",
   "execution_count": 39,
   "id": "c43aeb02",
   "metadata": {
    "execution": {
     "iopub.execute_input": "2024-02-03T08:03:17.236470Z",
     "iopub.status.busy": "2024-02-03T08:03:17.236003Z",
     "iopub.status.idle": "2024-02-03T08:03:17.244381Z",
     "shell.execute_reply": "2024-02-03T08:03:17.243198Z"
    },
    "papermill": {
     "duration": 0.049861,
     "end_time": "2024-02-03T08:03:17.246827",
     "exception": false,
     "start_time": "2024-02-03T08:03:17.196966",
     "status": "completed"
    },
    "tags": []
   },
   "outputs": [
    {
     "data": {
      "text/plain": [
       "PassengerId\n",
       "882                          Markun, Mr. Johann\n",
       "883                Dahlberg, Miss. Gerda Ulrika\n",
       "884               Banfield, Mr. Frederick James\n",
       "885                      Sutehall, Mr. Henry Jr\n",
       "886        Rice, Mrs. William (Margaret Norton)\n",
       "887                       Montvila, Rev. Juozas\n",
       "888                Graham, Miss. Margaret Edith\n",
       "889    Johnston, Miss. Catherine Helen \"Carrie\"\n",
       "890                       Behr, Mr. Karl Howell\n",
       "891                         Dooley, Mr. Patrick\n",
       "Name: Name, dtype: object"
      ]
     },
     "execution_count": 39,
     "metadata": {},
     "output_type": "execute_result"
    }
   ],
   "source": [
    "train_df[\"Name\"].tail(10)"
   ]
  },
  {
   "cell_type": "code",
   "execution_count": 40,
   "id": "0bc66f67",
   "metadata": {
    "execution": {
     "iopub.execute_input": "2024-02-03T08:03:17.325095Z",
     "iopub.status.busy": "2024-02-03T08:03:17.323974Z",
     "iopub.status.idle": "2024-02-03T08:03:17.334639Z",
     "shell.execute_reply": "2024-02-03T08:03:17.333747Z"
    },
    "papermill": {
     "duration": 0.052389,
     "end_time": "2024-02-03T08:03:17.337210",
     "exception": false,
     "start_time": "2024-02-03T08:03:17.284821",
     "status": "completed"
    },
    "tags": []
   },
   "outputs": [],
   "source": [
    "import re \n",
    "def extract_title(name):\n",
    "    p=re.compile(r\",([\\w\\s]+)\\.\")\n",
    "    return p.search(name).groups(1)[0].strip()\n",
    "train_df[\"Title\"]=train_df[\"Name\"].apply(lambda name: extract_title(name) )"
   ]
  },
  {
   "cell_type": "code",
   "execution_count": 41,
   "id": "882b53a6",
   "metadata": {
    "execution": {
     "iopub.execute_input": "2024-02-03T08:03:17.416483Z",
     "iopub.status.busy": "2024-02-03T08:03:17.415993Z",
     "iopub.status.idle": "2024-02-03T08:03:17.425675Z",
     "shell.execute_reply": "2024-02-03T08:03:17.424480Z"
    },
    "papermill": {
     "duration": 0.052766,
     "end_time": "2024-02-03T08:03:17.427974",
     "exception": false,
     "start_time": "2024-02-03T08:03:17.375208",
     "status": "completed"
    },
    "tags": []
   },
   "outputs": [
    {
     "data": {
      "text/plain": [
       "Title\n",
       "Mr              517\n",
       "Miss            182\n",
       "Mrs             125\n",
       "Master           40\n",
       "Dr                7\n",
       "Rev               6\n",
       "Mlle              2\n",
       "Major             2\n",
       "Col               2\n",
       "the Countess      1\n",
       "Capt              1\n",
       "Ms                1\n",
       "Sir               1\n",
       "Lady              1\n",
       "Mme               1\n",
       "Don               1\n",
       "Jonkheer          1\n",
       "Name: count, dtype: int64"
      ]
     },
     "execution_count": 41,
     "metadata": {},
     "output_type": "execute_result"
    }
   ],
   "source": [
    "train_df[\"Title\"].value_counts()"
   ]
  },
  {
   "cell_type": "code",
   "execution_count": 42,
   "id": "8fa0b639",
   "metadata": {
    "execution": {
     "iopub.execute_input": "2024-02-03T08:03:17.506629Z",
     "iopub.status.busy": "2024-02-03T08:03:17.506157Z",
     "iopub.status.idle": "2024-02-03T08:03:17.518572Z",
     "shell.execute_reply": "2024-02-03T08:03:17.517482Z"
    },
    "papermill": {
     "duration": 0.055204,
     "end_time": "2024-02-03T08:03:17.521004",
     "exception": false,
     "start_time": "2024-02-03T08:03:17.465800",
     "status": "completed"
    },
    "tags": []
   },
   "outputs": [
    {
     "data": {
      "text/plain": [
       "PassengerId\n",
       "514    Rothschild, Mrs. Martin (Elizabeth L. Barrett)\n",
       "Name: Name, dtype: object"
      ]
     },
     "execution_count": 42,
     "metadata": {},
     "output_type": "execute_result"
    }
   ],
   "source": [
    "train_df[train_df[\"Name\"].str.contains(\"Mrs. Martin\")]['Name']"
   ]
  },
  {
   "cell_type": "code",
   "execution_count": 43,
   "id": "5500e1f2",
   "metadata": {
    "execution": {
     "iopub.execute_input": "2024-02-03T08:03:17.599466Z",
     "iopub.status.busy": "2024-02-03T08:03:17.599014Z",
     "iopub.status.idle": "2024-02-03T08:03:17.606727Z",
     "shell.execute_reply": "2024-02-03T08:03:17.605384Z"
    },
    "papermill": {
     "duration": 0.049878,
     "end_time": "2024-02-03T08:03:17.609339",
     "exception": false,
     "start_time": "2024-02-03T08:03:17.559461",
     "status": "completed"
    },
    "tags": []
   },
   "outputs": [],
   "source": [
    "test_df[\"Title\"]=test_df[\"Name\"].apply(lambda name: extract_title(name) )"
   ]
  },
  {
   "cell_type": "code",
   "execution_count": 44,
   "id": "7624279f",
   "metadata": {
    "execution": {
     "iopub.execute_input": "2024-02-03T08:03:17.687602Z",
     "iopub.status.busy": "2024-02-03T08:03:17.686827Z",
     "iopub.status.idle": "2024-02-03T08:03:17.697269Z",
     "shell.execute_reply": "2024-02-03T08:03:17.696187Z"
    },
    "papermill": {
     "duration": 0.05266,
     "end_time": "2024-02-03T08:03:17.700016",
     "exception": false,
     "start_time": "2024-02-03T08:03:17.647356",
     "status": "completed"
    },
    "tags": []
   },
   "outputs": [
    {
     "data": {
      "text/plain": [
       "Title\n",
       "Mr        240\n",
       "Miss       78\n",
       "Mrs        72\n",
       "Master     21\n",
       "Col         2\n",
       "Rev         2\n",
       "Ms          1\n",
       "Dr          1\n",
       "Dona        1\n",
       "Name: count, dtype: int64"
      ]
     },
     "execution_count": 44,
     "metadata": {},
     "output_type": "execute_result"
    }
   ],
   "source": [
    "test_df[\"Title\"].value_counts()"
   ]
  },
  {
   "cell_type": "code",
   "execution_count": 45,
   "id": "f47ea4b3",
   "metadata": {
    "execution": {
     "iopub.execute_input": "2024-02-03T08:03:17.778890Z",
     "iopub.status.busy": "2024-02-03T08:03:17.777808Z",
     "iopub.status.idle": "2024-02-03T08:03:18.362048Z",
     "shell.execute_reply": "2024-02-03T08:03:18.360841Z"
    },
    "papermill": {
     "duration": 0.626497,
     "end_time": "2024-02-03T08:03:18.364692",
     "exception": false,
     "start_time": "2024-02-03T08:03:17.738195",
     "status": "completed"
    },
    "tags": []
   },
   "outputs": [
    {
     "data": {
      "text/plain": [
       "<Axes: xlabel='Title', ylabel='count'>"
      ]
     },
     "execution_count": 45,
     "metadata": {},
     "output_type": "execute_result"
    },
    {
     "data": {
      "image/png": "[encoded data removed]",
      "text/plain": [
       "<Figure size 640x480 with 1 Axes>"
      ]
     },
     "metadata": {},
     "output_type": "display_data"
    }
   ],
   "source": [
    "sns.countplot(data=train_df,x=\"Title\",hue=\"Survived\")"
   ]
  },
  {
   "cell_type": "code",
   "execution_count": 46,
   "id": "269494a1",
   "metadata": {
    "execution": {
     "iopub.execute_input": "2024-02-03T08:03:18.444868Z",
     "iopub.status.busy": "2024-02-03T08:03:18.444023Z",
     "iopub.status.idle": "2024-02-03T08:03:18.454936Z",
     "shell.execute_reply": "2024-02-03T08:03:18.453797Z"
    },
    "papermill": {
     "duration": 0.053725,
     "end_time": "2024-02-03T08:03:18.457363",
     "exception": false,
     "start_time": "2024-02-03T08:03:18.403638",
     "status": "completed"
    },
    "tags": []
   },
   "outputs": [
    {
     "data": {
      "text/plain": [
       "PassengerId\n",
       "1          Mr\n",
       "2         Mrs\n",
       "3        Miss\n",
       "4         Mrs\n",
       "5          Mr\n",
       "        ...  \n",
       "887    Others\n",
       "888      Miss\n",
       "889      Miss\n",
       "890        Mr\n",
       "891        Mr\n",
       "Name: Title, Length: 891, dtype: object"
      ]
     },
     "execution_count": 46,
     "metadata": {},
     "output_type": "execute_result"
    }
   ],
   "source": [
    "train_df[\"Title\"].apply(lambda title: title if title in [\"Mr\",\"Mrs\",\"Miss\",\"Master\"] else \"Others\" )"
   ]
  },
  {
   "cell_type": "code",
   "execution_count": 47,
   "id": "60f0dd84",
   "metadata": {
    "execution": {
     "iopub.execute_input": "2024-02-03T08:03:18.537429Z",
     "iopub.status.busy": "2024-02-03T08:03:18.537000Z",
     "iopub.status.idle": "2024-02-03T08:03:18.542813Z",
     "shell.execute_reply": "2024-02-03T08:03:18.541566Z"
    },
    "papermill": {
     "duration": 0.048881,
     "end_time": "2024-02-03T08:03:18.545406",
     "exception": false,
     "start_time": "2024-02-03T08:03:18.496525",
     "status": "completed"
    },
    "tags": []
   },
   "outputs": [],
   "source": [
    "def group_title(title):\n",
    "    if title in [\"Mr\",\"Mrs\",\"Miss\",\"Master\"]:\n",
    "        return title\n",
    "    elif title == \"Ms\":\n",
    "        return \"Miss\"\n",
    "    else:\n",
    "        return \"Others\""
   ]
  },
  {
   "cell_type": "code",
   "execution_count": 48,
   "id": "0c3874f0",
   "metadata": {
    "execution": {
     "iopub.execute_input": "2024-02-03T08:03:18.624953Z",
     "iopub.status.busy": "2024-02-03T08:03:18.624527Z",
     "iopub.status.idle": "2024-02-03T08:03:18.631870Z",
     "shell.execute_reply": "2024-02-03T08:03:18.630810Z"
    },
    "papermill": {
     "duration": 0.049979,
     "end_time": "2024-02-03T08:03:18.634229",
     "exception": false,
     "start_time": "2024-02-03T08:03:18.584250",
     "status": "completed"
    },
    "tags": []
   },
   "outputs": [],
   "source": [
    "train_df[\"Title\"]=train_df[\"Title\"].apply(lambda title: group_title(title))"
   ]
  },
  {
   "cell_type": "code",
   "execution_count": 49,
   "id": "3146feb0",
   "metadata": {
    "execution": {
     "iopub.execute_input": "2024-02-03T08:03:18.715515Z",
     "iopub.status.busy": "2024-02-03T08:03:18.715100Z",
     "iopub.status.idle": "2024-02-03T08:03:18.721725Z",
     "shell.execute_reply": "2024-02-03T08:03:18.720369Z"
    },
    "papermill": {
     "duration": 0.051023,
     "end_time": "2024-02-03T08:03:18.724143",
     "exception": false,
     "start_time": "2024-02-03T08:03:18.673120",
     "status": "completed"
    },
    "tags": []
   },
   "outputs": [],
   "source": [
    "test_df[\"Title\"]=test_df[\"Title\"].apply(lambda title: group_title(title))"
   ]
  },
  {
   "cell_type": "code",
   "execution_count": 50,
   "id": "593e6e44",
   "metadata": {
    "execution": {
     "iopub.execute_input": "2024-02-03T08:03:18.804081Z",
     "iopub.status.busy": "2024-02-03T08:03:18.803653Z",
     "iopub.status.idle": "2024-02-03T08:03:19.120880Z",
     "shell.execute_reply": "2024-02-03T08:03:19.119490Z"
    },
    "papermill": {
     "duration": 0.360761,
     "end_time": "2024-02-03T08:03:19.123936",
     "exception": false,
     "start_time": "2024-02-03T08:03:18.763175",
     "status": "completed"
    },
    "tags": []
   },
   "outputs": [
    {
     "data": {
      "image/png": "[encoded data removed]",
      "text/plain": [
       "<Figure size 640x480 with 1 Axes>"
      ]
     },
     "metadata": {},
     "output_type": "display_data"
    }
   ],
   "source": [
    "sns.countplot(data=train_df,x=\"Title\",hue=\"Survived\");"
   ]
  },
  {
   "cell_type": "markdown",
   "id": "fad9a6e2",
   "metadata": {
    "papermill": {
     "duration": 0.040545,
     "end_time": "2024-02-03T08:03:19.203810",
     "exception": false,
     "start_time": "2024-02-03T08:03:19.163265",
     "status": "completed"
    },
    "tags": []
   },
   "source": []
  },
  {
   "cell_type": "markdown",
   "id": "b22752b0",
   "metadata": {
    "papermill": {
     "duration": 0.040462,
     "end_time": "2024-02-03T08:03:19.285317",
     "exception": false,
     "start_time": "2024-02-03T08:03:19.244855",
     "status": "completed"
    },
    "tags": []
   },
   "source": [
    "## Family size\n",
    "# SibSp, Parch"
   ]
  },
  {
   "cell_type": "code",
   "execution_count": 51,
   "id": "246a4667",
   "metadata": {
    "execution": {
     "iopub.execute_input": "2024-02-03T08:03:19.368660Z",
     "iopub.status.busy": "2024-02-03T08:03:19.368220Z",
     "iopub.status.idle": "2024-02-03T08:03:19.375700Z",
     "shell.execute_reply": "2024-02-03T08:03:19.374791Z"
    },
    "papermill": {
     "duration": 0.051798,
     "end_time": "2024-02-03T08:03:19.377957",
     "exception": false,
     "start_time": "2024-02-03T08:03:19.326159",
     "status": "completed"
    },
    "tags": []
   },
   "outputs": [],
   "source": [
    "train_df[\"Family_Size\"]=train_df[\"SibSp\"].astype('int')+train_df[\"Parch\"].astype('int')+1"
   ]
  },
  {
   "cell_type": "code",
   "execution_count": 52,
   "id": "4021a8c3",
   "metadata": {
    "execution": {
     "iopub.execute_input": "2024-02-03T08:03:19.459233Z",
     "iopub.status.busy": "2024-02-03T08:03:19.458251Z",
     "iopub.status.idle": "2024-02-03T08:03:19.465868Z",
     "shell.execute_reply": "2024-02-03T08:03:19.464773Z"
    },
    "papermill": {
     "duration": 0.05069,
     "end_time": "2024-02-03T08:03:19.468350",
     "exception": false,
     "start_time": "2024-02-03T08:03:19.417660",
     "status": "completed"
    },
    "tags": []
   },
   "outputs": [],
   "source": [
    "test_df[\"Family_Size\"]=test_df[\"SibSp\"].astype('int')+test_df[\"Parch\"].astype('int')+1"
   ]
  },
  {
   "cell_type": "code",
   "execution_count": 53,
   "id": "9d53bc75",
   "metadata": {
    "execution": {
     "iopub.execute_input": "2024-02-03T08:03:19.549950Z",
     "iopub.status.busy": "2024-02-03T08:03:19.548778Z",
     "iopub.status.idle": "2024-02-03T08:03:19.940687Z",
     "shell.execute_reply": "2024-02-03T08:03:19.939465Z"
    },
    "papermill": {
     "duration": 0.435595,
     "end_time": "2024-02-03T08:03:19.943861",
     "exception": false,
     "start_time": "2024-02-03T08:03:19.508266",
     "status": "completed"
    },
    "tags": []
   },
   "outputs": [
    {
     "data": {
      "image/png": "[encoded data removed]",
      "text/plain": [
       "<Figure size 640x480 with 1 Axes>"
      ]
     },
     "metadata": {},
     "output_type": "display_data"
    }
   ],
   "source": [
    "sns.countplot(data=train_df,x=\"Family_Size\",hue=\"Survived\");"
   ]
  },
  {
   "cell_type": "code",
   "execution_count": 54,
   "id": "e3b33670",
   "metadata": {
    "execution": {
     "iopub.execute_input": "2024-02-03T08:03:20.026443Z",
     "iopub.status.busy": "2024-02-03T08:03:20.025587Z",
     "iopub.status.idle": "2024-02-03T08:03:20.035567Z",
     "shell.execute_reply": "2024-02-03T08:03:20.034494Z"
    },
    "papermill": {
     "duration": 0.05439,
     "end_time": "2024-02-03T08:03:20.038456",
     "exception": false,
     "start_time": "2024-02-03T08:03:19.984066",
     "status": "completed"
    },
    "tags": []
   },
   "outputs": [],
   "source": [
    "train_df[\"Family_Cat\"]=pd.cut(train_df[\"Family_Size\"],bins=[0,1,4,6,20],labels=[\"Solo\",\"Small\",\"Medium\",\"Large\"])"
   ]
  },
  {
   "cell_type": "code",
   "execution_count": 55,
   "id": "e1a2ad5e",
   "metadata": {
    "execution": {
     "iopub.execute_input": "2024-02-03T08:03:20.120513Z",
     "iopub.status.busy": "2024-02-03T08:03:20.120083Z",
     "iopub.status.idle": "2024-02-03T08:03:20.440567Z",
     "shell.execute_reply": "2024-02-03T08:03:20.439370Z"
    },
    "papermill": {
     "duration": 0.364582,
     "end_time": "2024-02-03T08:03:20.443031",
     "exception": false,
     "start_time": "2024-02-03T08:03:20.078449",
     "status": "completed"
    },
    "tags": []
   },
   "outputs": [
    {
     "data": {
      "image/png": "[encoded data removed]",
      "text/plain": [
       "<Figure size 640x480 with 1 Axes>"
      ]
     },
     "metadata": {},
     "output_type": "display_data"
    }
   ],
   "source": [
    "sns.countplot(data=train_df,x=\"Family_Cat\",hue=\"Survived\");"
   ]
  },
  {
   "cell_type": "markdown",
   "id": "c490aa4a",
   "metadata": {
    "papermill": {
     "duration": 0.039889,
     "end_time": "2024-02-03T08:03:20.522558",
     "exception": false,
     "start_time": "2024-02-03T08:03:20.482669",
     "status": "completed"
    },
    "tags": []
   },
   "source": [
    "## Data Wrangling"
   ]
  },
  {
   "cell_type": "code",
   "execution_count": 56,
   "id": "5faab6b9",
   "metadata": {
    "execution": {
     "iopub.execute_input": "2024-02-03T08:03:20.604737Z",
     "iopub.status.busy": "2024-02-03T08:03:20.603660Z",
     "iopub.status.idle": "2024-02-03T08:03:20.612954Z",
     "shell.execute_reply": "2024-02-03T08:03:20.611810Z"
    },
    "papermill": {
     "duration": 0.053301,
     "end_time": "2024-02-03T08:03:20.615560",
     "exception": false,
     "start_time": "2024-02-03T08:03:20.562259",
     "status": "completed"
    },
    "tags": []
   },
   "outputs": [],
   "source": [
    "test_df[\"Family_Cat\"]=pd.cut(test_df[\"Family_Size\"],bins=[0,1,4,6,20],labels=[\"Solo\",\"Small\",\"Medium\",\"Large\"])"
   ]
  },
  {
   "cell_type": "code",
   "execution_count": 57,
   "id": "34b7c8b1",
   "metadata": {
    "execution": {
     "iopub.execute_input": "2024-02-03T08:03:20.703360Z",
     "iopub.status.busy": "2024-02-03T08:03:20.702766Z",
     "iopub.status.idle": "2024-02-03T08:03:20.713738Z",
     "shell.execute_reply": "2024-02-03T08:03:20.712243Z"
    },
    "papermill": {
     "duration": 0.055338,
     "end_time": "2024-02-03T08:03:20.716373",
     "exception": false,
     "start_time": "2024-02-03T08:03:20.661035",
     "status": "completed"
    },
    "tags": []
   },
   "outputs": [
    {
     "name": "stdout",
     "output_type": "stream",
     "text": [
      "['Age', 'Fare', 'Sex', 'Pclass', 'Embarked', 'Title', 'Family_Cat']\n"
     ]
    }
   ],
   "source": [
    "num_features=[\"Age\",\"Fare\"]\n",
    "cat_features=[\"Sex\",\"Pclass\",\"Embarked\",\"Title\",\"Family_Cat\"]\n",
    "feature_cols=num_features+cat_features\n",
    "print(feature_cols)"
   ]
  },
  {
   "cell_type": "code",
   "execution_count": 58,
   "id": "7d8ac121",
   "metadata": {
    "execution": {
     "iopub.execute_input": "2024-02-03T08:03:20.813908Z",
     "iopub.status.busy": "2024-02-03T08:03:20.812769Z",
     "iopub.status.idle": "2024-02-03T08:03:20.823449Z",
     "shell.execute_reply": "2024-02-03T08:03:20.822085Z"
    },
    "papermill": {
     "duration": 0.059852,
     "end_time": "2024-02-03T08:03:20.825618",
     "exception": false,
     "start_time": "2024-02-03T08:03:20.765766",
     "status": "completed"
    },
    "tags": []
   },
   "outputs": [
    {
     "name": "stdout",
     "output_type": "stream",
     "text": [
      "Column Age has  19.87% missing values\n",
      "Column Embarked has  0.22% missing values\n"
     ]
    }
   ],
   "source": [
    "def display_missing(df,feature_cols):\n",
    "    n_rows=df.shape[0]\n",
    "    for col in feature_cols:\n",
    "        missing_count=df[col].isnull().sum()\n",
    "        if missing_count>0:\n",
    "            print(f\"Column {col} has {missing_count*100/n_rows: .2f}% missing values\")\n",
    "display_missing(train_df,feature_cols)\n",
    "            \n",
    "        "
   ]
  },
  {
   "cell_type": "code",
   "execution_count": 59,
   "id": "b0aa6390",
   "metadata": {
    "execution": {
     "iopub.execute_input": "2024-02-03T08:03:20.908463Z",
     "iopub.status.busy": "2024-02-03T08:03:20.908022Z",
     "iopub.status.idle": "2024-02-03T08:03:20.917047Z",
     "shell.execute_reply": "2024-02-03T08:03:20.915652Z"
    },
    "papermill": {
     "duration": 0.053519,
     "end_time": "2024-02-03T08:03:20.919499",
     "exception": false,
     "start_time": "2024-02-03T08:03:20.865980",
     "status": "completed"
    },
    "tags": []
   },
   "outputs": [
    {
     "name": "stdout",
     "output_type": "stream",
     "text": [
      "Column Age has  20.57% missing values\n",
      "Column Fare has  0.24% missing values\n"
     ]
    }
   ],
   "source": [
    "display_missing(test_df,feature_cols)\n"
   ]
  },
  {
   "cell_type": "markdown",
   "id": "9e4fc1e0",
   "metadata": {
    "papermill": {
     "duration": 0.040027,
     "end_time": "2024-02-03T08:03:20.999724",
     "exception": false,
     "start_time": "2024-02-03T08:03:20.959697",
     "status": "completed"
    },
    "tags": []
   },
   "source": [
    "# Fill missing values\n",
    "## Age : fill missing values with median of whole dataset"
   ]
  },
  {
   "cell_type": "code",
   "execution_count": 60,
   "id": "05409bc9",
   "metadata": {
    "execution": {
     "iopub.execute_input": "2024-02-03T08:03:21.082456Z",
     "iopub.status.busy": "2024-02-03T08:03:21.082001Z",
     "iopub.status.idle": "2024-02-03T08:03:21.089339Z",
     "shell.execute_reply": "2024-02-03T08:03:21.088224Z"
    },
    "papermill": {
     "duration": 0.051637,
     "end_time": "2024-02-03T08:03:21.091636",
     "exception": false,
     "start_time": "2024-02-03T08:03:21.039999",
     "status": "completed"
    },
    "tags": []
   },
   "outputs": [
    {
     "data": {
      "text/plain": [
       "CategoricalDtype(categories=[1, 2, 3], ordered=False)"
      ]
     },
     "execution_count": 60,
     "metadata": {},
     "output_type": "execute_result"
    }
   ],
   "source": [
    "train_df[\"Pclass\"].dtype"
   ]
  },
  {
   "cell_type": "code",
   "execution_count": 61,
   "id": "950c262c",
   "metadata": {
    "execution": {
     "iopub.execute_input": "2024-02-03T08:03:21.176884Z",
     "iopub.status.busy": "2024-02-03T08:03:21.176069Z",
     "iopub.status.idle": "2024-02-03T08:03:21.193197Z",
     "shell.execute_reply": "2024-02-03T08:03:21.192320Z"
    },
    "papermill": {
     "duration": 0.061971,
     "end_time": "2024-02-03T08:03:21.195506",
     "exception": false,
     "start_time": "2024-02-03T08:03:21.133535",
     "status": "completed"
    },
    "tags": []
   },
   "outputs": [
    {
     "data": {
      "text/plain": [
       "Sex     Pclass\n",
       "female  1         35.0\n",
       "        2         28.0\n",
       "        3         21.5\n",
       "male    1         40.0\n",
       "        2         30.0\n",
       "        3         25.0\n",
       "Name: Age, dtype: float64"
      ]
     },
     "execution_count": 61,
     "metadata": {},
     "output_type": "execute_result"
    }
   ],
   "source": [
    "age_by_sex_pclass=train_df[['Pclass', 'Sex','Age']].groupby(['Sex','Pclass']).median()['Age']\n",
    "age_by_sex_pclass"
   ]
  },
  {
   "cell_type": "code",
   "execution_count": 62,
   "id": "448fd424",
   "metadata": {
    "execution": {
     "iopub.execute_input": "2024-02-03T08:03:21.278956Z",
     "iopub.status.busy": "2024-02-03T08:03:21.278503Z",
     "iopub.status.idle": "2024-02-03T08:03:21.289461Z",
     "shell.execute_reply": "2024-02-03T08:03:21.288471Z"
    },
    "papermill": {
     "duration": 0.055991,
     "end_time": "2024-02-03T08:03:21.292389",
     "exception": false,
     "start_time": "2024-02-03T08:03:21.236398",
     "status": "completed"
    },
    "tags": []
   },
   "outputs": [],
   "source": [
    "# fill missing values by median of group sex & Pclass\n",
    "train_df.Age.fillna(train_df[['Pclass', 'Sex','Age']].groupby(['Sex','Pclass']).transform('median').Age, inplace=True)"
   ]
  },
  {
   "cell_type": "code",
   "execution_count": 63,
   "id": "d7af63d8",
   "metadata": {
    "execution": {
     "iopub.execute_input": "2024-02-03T08:03:21.375823Z",
     "iopub.status.busy": "2024-02-03T08:03:21.375382Z",
     "iopub.status.idle": "2024-02-03T08:03:21.385446Z",
     "shell.execute_reply": "2024-02-03T08:03:21.384507Z"
    },
    "papermill": {
     "duration": 0.05435,
     "end_time": "2024-02-03T08:03:21.387722",
     "exception": false,
     "start_time": "2024-02-03T08:03:21.333372",
     "status": "completed"
    },
    "tags": []
   },
   "outputs": [
    {
     "data": {
      "text/plain": [
       "PassengerId\n",
       "1      22.0\n",
       "2      38.0\n",
       "3      26.0\n",
       "4      35.0\n",
       "5      35.0\n",
       "       ... \n",
       "887    27.0\n",
       "888    19.0\n",
       "889    21.5\n",
       "890    26.0\n",
       "891    32.0\n",
       "Name: Age, Length: 891, dtype: float64"
      ]
     },
     "execution_count": 63,
     "metadata": {},
     "output_type": "execute_result"
    }
   ],
   "source": [
    "train_df.Age"
   ]
  },
  {
   "cell_type": "code",
   "execution_count": 64,
   "id": "b9b97b91",
   "metadata": {
    "execution": {
     "iopub.execute_input": "2024-02-03T08:03:21.471416Z",
     "iopub.status.busy": "2024-02-03T08:03:21.470979Z",
     "iopub.status.idle": "2024-02-03T08:03:21.481079Z",
     "shell.execute_reply": "2024-02-03T08:03:21.480043Z"
    },
    "papermill": {
     "duration": 0.055389,
     "end_time": "2024-02-03T08:03:21.483802",
     "exception": false,
     "start_time": "2024-02-03T08:03:21.428413",
     "status": "completed"
    },
    "tags": []
   },
   "outputs": [],
   "source": [
    "test_df.Age.fillna(test_df[['Pclass', 'Sex','Age']].groupby(['Sex','Pclass']).transform('median').Age, inplace=True)"
   ]
  },
  {
   "cell_type": "code",
   "execution_count": 65,
   "id": "7aea2981",
   "metadata": {
    "execution": {
     "iopub.execute_input": "2024-02-03T08:03:21.568852Z",
     "iopub.status.busy": "2024-02-03T08:03:21.567757Z",
     "iopub.status.idle": "2024-02-03T08:03:21.578187Z",
     "shell.execute_reply": "2024-02-03T08:03:21.576868Z"
    },
    "papermill": {
     "duration": 0.055673,
     "end_time": "2024-02-03T08:03:21.580937",
     "exception": false,
     "start_time": "2024-02-03T08:03:21.525264",
     "status": "completed"
    },
    "tags": []
   },
   "outputs": [
    {
     "name": "stdout",
     "output_type": "stream",
     "text": [
      "Column Embarked has  0.22% missing values\n",
      "Column Fare has  0.24% missing values\n"
     ]
    }
   ],
   "source": [
    "display_missing(train_df,feature_cols)\n",
    "display_missing(test_df,feature_cols)"
   ]
  },
  {
   "cell_type": "code",
   "execution_count": 66,
   "id": "73013b78",
   "metadata": {
    "execution": {
     "iopub.execute_input": "2024-02-03T08:03:21.665891Z",
     "iopub.status.busy": "2024-02-03T08:03:21.665480Z",
     "iopub.status.idle": "2024-02-03T08:03:21.673143Z",
     "shell.execute_reply": "2024-02-03T08:03:21.671874Z"
    },
    "papermill": {
     "duration": 0.052832,
     "end_time": "2024-02-03T08:03:21.675653",
     "exception": false,
     "start_time": "2024-02-03T08:03:21.622821",
     "status": "completed"
    },
    "tags": []
   },
   "outputs": [],
   "source": [
    "X=train_df[feature_cols]\n",
    "y=train_df[\"Survived\"]\n",
    "X_test=test_df[feature_cols]\n"
   ]
  },
  {
   "cell_type": "markdown",
   "id": "02961412",
   "metadata": {
    "papermill": {
     "duration": 0.040196,
     "end_time": "2024-02-03T08:03:21.758293",
     "exception": false,
     "start_time": "2024-02-03T08:03:21.718097",
     "status": "completed"
    },
    "tags": []
   },
   "source": [
    "# Preprocess pipeline"
   ]
  },
  {
   "cell_type": "code",
   "execution_count": 67,
   "id": "b2d6e9ce",
   "metadata": {
    "execution": {
     "iopub.execute_input": "2024-02-03T08:03:21.842102Z",
     "iopub.status.busy": "2024-02-03T08:03:21.841709Z",
     "iopub.status.idle": "2024-02-03T08:03:22.269611Z",
     "shell.execute_reply": "2024-02-03T08:03:22.268535Z"
    },
    "papermill": {
     "duration": 0.473597,
     "end_time": "2024-02-03T08:03:22.272532",
     "exception": false,
     "start_time": "2024-02-03T08:03:21.798935",
     "status": "completed"
    },
    "tags": []
   },
   "outputs": [],
   "source": [
    "import sklearn\n",
    "from sklearn.pipeline import Pipeline\n",
    "from sklearn.compose import ColumnTransformer\n",
    "from sklearn.preprocessing import OneHotEncoder,StandardScaler\n",
    "from sklearn.impute import SimpleImputer"
   ]
  },
  {
   "cell_type": "code",
   "execution_count": 68,
   "id": "feeb9d2e",
   "metadata": {
    "execution": {
     "iopub.execute_input": "2024-02-03T08:03:22.355893Z",
     "iopub.status.busy": "2024-02-03T08:03:22.355479Z",
     "iopub.status.idle": "2024-02-03T08:03:22.361156Z",
     "shell.execute_reply": "2024-02-03T08:03:22.359884Z"
    },
    "papermill": {
     "duration": 0.050337,
     "end_time": "2024-02-03T08:03:22.363681",
     "exception": false,
     "start_time": "2024-02-03T08:03:22.313344",
     "status": "completed"
    },
    "tags": []
   },
   "outputs": [],
   "source": [
    "num_transformer=Pipeline(steps=[\n",
    "    ('imputer',SimpleImputer(strategy='median')),\n",
    "    ('scaler',StandardScaler())\n",
    "])"
   ]
  },
  {
   "cell_type": "code",
   "execution_count": 69,
   "id": "789024dd",
   "metadata": {
    "execution": {
     "iopub.execute_input": "2024-02-03T08:03:22.447447Z",
     "iopub.status.busy": "2024-02-03T08:03:22.446995Z",
     "iopub.status.idle": "2024-02-03T08:03:22.452915Z",
     "shell.execute_reply": "2024-02-03T08:03:22.451735Z"
    },
    "papermill": {
     "duration": 0.050445,
     "end_time": "2024-02-03T08:03:22.455377",
     "exception": false,
     "start_time": "2024-02-03T08:03:22.404932",
     "status": "completed"
    },
    "tags": []
   },
   "outputs": [],
   "source": [
    "cat_transformer=Pipeline(steps=[\n",
    "    ('imputer',SimpleImputer(strategy='most_frequent')),\n",
    "    ('encoder',OneHotEncoder(handle_unknown='ignore'))\n",
    "])"
   ]
  },
  {
   "cell_type": "code",
   "execution_count": 70,
   "id": "433b6bdd",
   "metadata": {
    "execution": {
     "iopub.execute_input": "2024-02-03T08:03:22.539118Z",
     "iopub.status.busy": "2024-02-03T08:03:22.538715Z",
     "iopub.status.idle": "2024-02-03T08:03:22.544392Z",
     "shell.execute_reply": "2024-02-03T08:03:22.543038Z"
    },
    "papermill": {
     "duration": 0.050608,
     "end_time": "2024-02-03T08:03:22.546828",
     "exception": false,
     "start_time": "2024-02-03T08:03:22.496220",
     "status": "completed"
    },
    "tags": []
   },
   "outputs": [],
   "source": [
    "preprocessor=ColumnTransformer(transformers=[('num',num_transformer,num_features),\n",
    "                                           ('cat',cat_transformer,cat_features)\n",
    "                                           ])"
   ]
  },
  {
   "cell_type": "code",
   "execution_count": 71,
   "id": "1cab29dc",
   "metadata": {
    "execution": {
     "iopub.execute_input": "2024-02-03T08:03:22.630636Z",
     "iopub.status.busy": "2024-02-03T08:03:22.630202Z",
     "iopub.status.idle": "2024-02-03T08:03:22.694720Z",
     "shell.execute_reply": "2024-02-03T08:03:22.693522Z"
    },
    "papermill": {
     "duration": 0.109627,
     "end_time": "2024-02-03T08:03:22.697462",
     "exception": false,
     "start_time": "2024-02-03T08:03:22.587835",
     "status": "completed"
    },
    "tags": []
   },
   "outputs": [
    {
     "data": {
      "text/html": [
       "<style>#sk-container-id-1 {color: black;background-color: white;}#sk-container-id-1 pre{padding: 0;}#sk-container-id-1 div.sk-toggleable {background-color: white;}#sk-container-id-1 label.sk-toggleable__label {cursor: pointer;display: block;width: 100%;margin-bottom: 0;padding: 0.3em;box-sizing: border-box;text-align: center;}#sk-container-id-1 label.sk-toggleable__label-arrow:before {content: \"▸\";float: left;margin-right: 0.25em;color: #696969;}#sk-container-id-1 label.sk-toggleable__label-arrow:hover:before {color: black;}#sk-container-id-1 div.sk-estimator:hover label.sk-toggleable__label-arrow:before {color: black;}#sk-container-id-1 div.sk-toggleable__content {max-height: 0;max-width: 0;overflow: hidden;text-align: left;background-color: #f0f8ff;}#sk-container-id-1 div.sk-toggleable__content pre {margin: 0.2em;color: black;border-radius: 0.25em;background-color: #f0f8ff;}#sk-container-id-1 input.sk-toggleable__control:checked~div.sk-toggleable__content {max-height: 200px;max-width: 100%;overflow: auto;}#sk-container-id-1 input.sk-toggleable__control:checked~label.sk-toggleable__label-arrow:before {content: \"▾\";}#sk-container-id-1 div.sk-estimator input.sk-toggleable__control:checked~label.sk-toggleable__label {background-color: #d4ebff;}#sk-container-id-1 div.sk-label input.sk-toggleable__control:checked~label.sk-toggleable__label {background-color: #d4ebff;}#sk-container-id-1 input.sk-hidden--visually {border: 0;clip: rect(1px 1px 1px 1px);clip: rect(1px, 1px, 1px, 1px);height: 1px;margin: -1px;overflow: hidden;padding: 0;position: absolute;width: 1px;}#sk-container-id-1 div.sk-estimator {font-family: monospace;background-color: #f0f8ff;border: 1px dotted black;border-radius: 0.25em;box-sizing: border-box;margin-bottom: 0.5em;}#sk-container-id-1 div.sk-estimator:hover {background-color: #d4ebff;}#sk-container-id-1 div.sk-parallel-item::after {content: \"\";width: 100%;border-bottom: 1px solid gray;flex-grow: 1;}#sk-container-id-1 div.sk-label:hover label.sk-toggleable__label {background-color: #d4ebff;}#sk-container-id-1 div.sk-serial::before {content: \"\";position: absolute;border-left: 1px solid gray;box-sizing: border-box;top: 0;bottom: 0;left: 50%;z-index: 0;}#sk-container-id-1 div.sk-serial {display: flex;flex-direction: column;align-items: center;background-color: white;padding-right: 0.2em;padding-left: 0.2em;position: relative;}#sk-container-id-1 div.sk-item {position: relative;z-index: 1;}#sk-container-id-1 div.sk-parallel {display: flex;align-items: stretch;justify-content: center;background-color: white;position: relative;}#sk-container-id-1 div.sk-item::before, #sk-container-id-1 div.sk-parallel-item::before {content: \"\";position: absolute;border-left: 1px solid gray;box-sizing: border-box;top: 0;bottom: 0;left: 50%;z-index: -1;}#sk-container-id-1 div.sk-parallel-item {display: flex;flex-direction: column;z-index: 1;position: relative;background-color: white;}#sk-container-id-1 div.sk-parallel-item:first-child::after {align-self: flex-end;width: 50%;}#sk-container-id-1 div.sk-parallel-item:last-child::after {align-self: flex-start;width: 50%;}#sk-container-id-1 div.sk-parallel-item:only-child::after {width: 0;}#sk-container-id-1 div.sk-dashed-wrapped {border: 1px dashed gray;margin: 0 0.4em 0.5em 0.4em;box-sizing: border-box;padding-bottom: 0.4em;background-color: white;}#sk-container-id-1 div.sk-label label {font-family: monospace;font-weight: bold;display: inline-block;line-height: 1.2em;}#sk-container-id-1 div.sk-label-container {text-align: center;}#sk-container-id-1 div.sk-container {/* jupyter's `normalize.less` sets `[hidden] { display: none; }` but bootstrap.min.css set `[hidden] { display: none !important; }` so we also need the `!important` here to be able to override the default hidden behavior on the sphinx rendered scikit-learn.org. See: https://github.com/scikit-learn/scikit-learn/issues/21755 */display: inline-block !important;position: relative;}#sk-container-id-1 div.sk-text-repr-fallback {display: none;}</style><div id=\"sk-container-id-1\" class=\"sk-top-container\"><div class=\"sk-text-repr-fallback\"><pre>ColumnTransformer(transformers=[(&#x27;num&#x27;,\n",
       "                                 Pipeline(steps=[(&#x27;imputer&#x27;,\n",
       "                                                  SimpleImputer(strategy=&#x27;median&#x27;)),\n",
       "                                                 (&#x27;scaler&#x27;, StandardScaler())]),\n",
       "                                 [&#x27;Age&#x27;, &#x27;Fare&#x27;]),\n",
       "                                (&#x27;cat&#x27;,\n",
       "                                 Pipeline(steps=[(&#x27;imputer&#x27;,\n",
       "                                                  SimpleImputer(strategy=&#x27;most_frequent&#x27;)),\n",
       "                                                 (&#x27;encoder&#x27;,\n",
       "                                                  OneHotEncoder(handle_unknown=&#x27;ignore&#x27;))]),\n",
       "                                 [&#x27;Sex&#x27;, &#x27;Pclass&#x27;, &#x27;Embarked&#x27;, &#x27;Title&#x27;,\n",
       "                                  &#x27;Family_Cat&#x27;])])</pre><b>In a Jupyter environment, please rerun this cell to show the HTML representation or trust the notebook. <br />On GitHub, the HTML representation is unable to render, please try loading this page with nbviewer.org.</b></div><div class=\"sk-container\" hidden><div class=\"sk-item sk-dashed-wrapped\"><div class=\"sk-label-container\"><div class=\"sk-label sk-toggleable\"><input class=\"sk-toggleable__control sk-hidden--visually\" id=\"sk-estimator-id-1\" type=\"checkbox\" ><label for=\"sk-estimator-id-1\" class=\"sk-toggleable__label sk-toggleable__label-arrow\">ColumnTransformer</label><div class=\"sk-toggleable__content\"><pre>ColumnTransformer(transformers=[(&#x27;num&#x27;,\n",
       "                                 Pipeline(steps=[(&#x27;imputer&#x27;,\n",
       "                                                  SimpleImputer(strategy=&#x27;median&#x27;)),\n",
       "                                                 (&#x27;scaler&#x27;, StandardScaler())]),\n",
       "                                 [&#x27;Age&#x27;, &#x27;Fare&#x27;]),\n",
       "                                (&#x27;cat&#x27;,\n",
       "                                 Pipeline(steps=[(&#x27;imputer&#x27;,\n",
       "                                                  SimpleImputer(strategy=&#x27;most_frequent&#x27;)),\n",
       "                                                 (&#x27;encoder&#x27;,\n",
       "                                                  OneHotEncoder(handle_unknown=&#x27;ignore&#x27;))]),\n",
       "                                 [&#x27;Sex&#x27;, &#x27;Pclass&#x27;, &#x27;Embarked&#x27;, &#x27;Title&#x27;,\n",
       "                                  &#x27;Family_Cat&#x27;])])</pre></div></div></div><div class=\"sk-parallel\"><div class=\"sk-parallel-item\"><div class=\"sk-item\"><div class=\"sk-label-container\"><div class=\"sk-label sk-toggleable\"><input class=\"sk-toggleable__control sk-hidden--visually\" id=\"sk-estimator-id-2\" type=\"checkbox\" ><label for=\"sk-estimator-id-2\" class=\"sk-toggleable__label sk-toggleable__label-arrow\">num</label><div class=\"sk-toggleable__content\"><pre>[&#x27;Age&#x27;, &#x27;Fare&#x27;]</pre></div></div></div><div class=\"sk-serial\"><div class=\"sk-item\"><div class=\"sk-serial\"><div class=\"sk-item\"><div class=\"sk-estimator sk-toggleable\"><input class=\"sk-toggleable__control sk-hidden--visually\" id=\"sk-estimator-id-3\" type=\"checkbox\" ><label for=\"sk-estimator-id-3\" class=\"sk-toggleable__label sk-toggleable__label-arrow\">SimpleImputer</label><div class=\"sk-toggleable__content\"><pre>SimpleImputer(strategy=&#x27;median&#x27;)</pre></div></div></div><div class=\"sk-item\"><div class=\"sk-estimator sk-toggleable\"><input class=\"sk-toggleable__control sk-hidden--visually\" id=\"sk-estimator-id-4\" type=\"checkbox\" ><label for=\"sk-estimator-id-4\" class=\"sk-toggleable__label sk-toggleable__label-arrow\">StandardScaler</label><div class=\"sk-toggleable__content\"><pre>StandardScaler()</pre></div></div></div></div></div></div></div></div><div class=\"sk-parallel-item\"><div class=\"sk-item\"><div class=\"sk-label-container\"><div class=\"sk-label sk-toggleable\"><input class=\"sk-toggleable__control sk-hidden--visually\" id=\"sk-estimator-id-5\" type=\"checkbox\" ><label for=\"sk-estimator-id-5\" class=\"sk-toggleable__label sk-toggleable__label-arrow\">cat</label><div class=\"sk-toggleable__content\"><pre>[&#x27;Sex&#x27;, &#x27;Pclass&#x27;, &#x27;Embarked&#x27;, &#x27;Title&#x27;, &#x27;Family_Cat&#x27;]</pre></div></div></div><div class=\"sk-serial\"><div class=\"sk-item\"><div class=\"sk-serial\"><div class=\"sk-item\"><div class=\"sk-estimator sk-toggleable\"><input class=\"sk-toggleable__control sk-hidden--visually\" id=\"sk-estimator-id-6\" type=\"checkbox\" ><label for=\"sk-estimator-id-6\" class=\"sk-toggleable__label sk-toggleable__label-arrow\">SimpleImputer</label><div class=\"sk-toggleable__content\"><pre>SimpleImputer(strategy=&#x27;most_frequent&#x27;)</pre></div></div></div><div class=\"sk-item\"><div class=\"sk-estimator sk-toggleable\"><input class=\"sk-toggleable__control sk-hidden--visually\" id=\"sk-estimator-id-7\" type=\"checkbox\" ><label for=\"sk-estimator-id-7\" class=\"sk-toggleable__label sk-toggleable__label-arrow\">OneHotEncoder</label><div class=\"sk-toggleable__content\"><pre>OneHotEncoder(handle_unknown=&#x27;ignore&#x27;)</pre></div></div></div></div></div></div></div></div></div></div></div></div>"
      ],
      "text/plain": [
       "ColumnTransformer(transformers=[('num',\n",
       "                                 Pipeline(steps=[('imputer',\n",
       "                                                  SimpleImputer(strategy='median')),\n",
       "                                                 ('scaler', StandardScaler())]),\n",
       "                                 ['Age', 'Fare']),\n",
       "                                ('cat',\n",
       "                                 Pipeline(steps=[('imputer',\n",
       "                                                  SimpleImputer(strategy='most_frequent')),\n",
       "                                                 ('encoder',\n",
       "                                                  OneHotEncoder(handle_unknown='ignore'))]),\n",
       "                                 ['Sex', 'Pclass', 'Embarked', 'Title',\n",
       "                                  'Family_Cat'])])"
      ]
     },
     "execution_count": 71,
     "metadata": {},
     "output_type": "execute_result"
    }
   ],
   "source": [
    "preprocessor.fit(X)"
   ]
  },
  {
   "cell_type": "code",
   "execution_count": 72,
   "id": "3247c45a",
   "metadata": {
    "execution": {
     "iopub.execute_input": "2024-02-03T08:03:22.784759Z",
     "iopub.status.busy": "2024-02-03T08:03:22.783698Z",
     "iopub.status.idle": "2024-02-03T08:03:22.809712Z",
     "shell.execute_reply": "2024-02-03T08:03:22.808540Z"
    },
    "papermill": {
     "duration": 0.072719,
     "end_time": "2024-02-03T08:03:22.812494",
     "exception": false,
     "start_time": "2024-02-03T08:03:22.739775",
     "status": "completed"
    },
    "tags": []
   },
   "outputs": [],
   "source": [
    "X=preprocessor.transform(X)\n",
    "X_test=preprocessor.transform(X_test)"
   ]
  },
  {
   "cell_type": "code",
   "execution_count": 73,
   "id": "ed3b6130",
   "metadata": {
    "execution": {
     "iopub.execute_input": "2024-02-03T08:03:22.898194Z",
     "iopub.status.busy": "2024-02-03T08:03:22.897708Z",
     "iopub.status.idle": "2024-02-03T08:03:22.907885Z",
     "shell.execute_reply": "2024-02-03T08:03:22.906622Z"
    },
    "papermill": {
     "duration": 0.056454,
     "end_time": "2024-02-03T08:03:22.910659",
     "exception": false,
     "start_time": "2024-02-03T08:03:22.854205",
     "status": "completed"
    },
    "tags": []
   },
   "outputs": [
    {
     "data": {
      "text/plain": [
       "(array([[-0.53489116, -0.50244517,  0.        , ...,  0.        ,\n",
       "          1.        ,  0.        ],\n",
       "        [ 0.66839176,  0.78684529,  1.        , ...,  0.        ,\n",
       "          1.        ,  0.        ],\n",
       "        [-0.23407043, -0.48885426,  1.        , ...,  0.        ,\n",
       "          0.        ,  1.        ],\n",
       "        ...,\n",
       "        [-0.57249375, -0.17626324,  1.        , ...,  0.        ,\n",
       "          1.        ,  0.        ],\n",
       "        [-0.23407043, -0.04438104,  0.        , ...,  0.        ,\n",
       "          0.        ,  1.        ],\n",
       "        [ 0.21716066, -0.49237783,  0.        , ...,  0.        ,\n",
       "          0.        ,  1.        ]]),\n",
       " array([[ 0.40517362, -0.49078316,  0.        , ...,  0.        ,\n",
       "          0.        ,  1.        ],\n",
       "        [ 1.3452384 , -0.50747884,  1.        , ...,  0.        ,\n",
       "          1.        ,  0.        ],\n",
       "        [ 2.47331614, -0.45336687,  0.        , ...,  0.        ,\n",
       "          0.        ,  1.        ],\n",
       "        ...,\n",
       "        [ 0.70599435, -0.50244517,  0.        , ...,  0.        ,\n",
       "          0.        ,  1.        ],\n",
       "        [-0.3844808 , -0.48633742,  0.        , ...,  0.        ,\n",
       "          0.        ,  1.        ],\n",
       "        [-0.3844808 , -0.19824428,  0.        , ...,  0.        ,\n",
       "          1.        ,  0.        ]]))"
      ]
     },
     "execution_count": 73,
     "metadata": {},
     "output_type": "execute_result"
    }
   ],
   "source": [
    "X,X_test"
   ]
  },
  {
   "cell_type": "code",
   "execution_count": 74,
   "id": "cc494db7",
   "metadata": {
    "execution": {
     "iopub.execute_input": "2024-02-03T08:03:22.996238Z",
     "iopub.status.busy": "2024-02-03T08:03:22.995755Z",
     "iopub.status.idle": "2024-02-03T08:03:23.002183Z",
     "shell.execute_reply": "2024-02-03T08:03:23.001243Z"
    },
    "papermill": {
     "duration": 0.051808,
     "end_time": "2024-02-03T08:03:23.004444",
     "exception": false,
     "start_time": "2024-02-03T08:03:22.952636",
     "status": "completed"
    },
    "tags": []
   },
   "outputs": [],
   "source": [
    "# X-> X_train, X_valid\n",
    "from sklearn.model_selection import train_test_split\n",
    "X_train, X_val, y_train, y_val = train_test_split(X,y,test_size=0.2)"
   ]
  },
  {
   "cell_type": "code",
   "execution_count": 75,
   "id": "0db85925",
   "metadata": {
    "execution": {
     "iopub.execute_input": "2024-02-03T08:03:23.091336Z",
     "iopub.status.busy": "2024-02-03T08:03:23.090889Z",
     "iopub.status.idle": "2024-02-03T08:03:23.098522Z",
     "shell.execute_reply": "2024-02-03T08:03:23.097359Z"
    },
    "papermill": {
     "duration": 0.05355,
     "end_time": "2024-02-03T08:03:23.100975",
     "exception": false,
     "start_time": "2024-02-03T08:03:23.047425",
     "status": "completed"
    },
    "tags": []
   },
   "outputs": [
    {
     "data": {
      "text/plain": [
       "((712, 19), (179, 19), (418, 19))"
      ]
     },
     "execution_count": 75,
     "metadata": {},
     "output_type": "execute_result"
    }
   ],
   "source": [
    "X_train.shape,X_val.shape,X_test.shape"
   ]
  },
  {
   "cell_type": "markdown",
   "id": "49fa85a9",
   "metadata": {
    "papermill": {
     "duration": 0.041648,
     "end_time": "2024-02-03T08:03:23.185212",
     "exception": false,
     "start_time": "2024-02-03T08:03:23.143564",
     "status": "completed"
    },
    "tags": []
   },
   "source": [
    "# Binary Classification"
   ]
  },
  {
   "cell_type": "code",
   "execution_count": 76,
   "id": "4c767512",
   "metadata": {
    "execution": {
     "iopub.execute_input": "2024-02-03T08:03:23.272175Z",
     "iopub.status.busy": "2024-02-03T08:03:23.271703Z",
     "iopub.status.idle": "2024-02-03T08:03:23.277194Z",
     "shell.execute_reply": "2024-02-03T08:03:23.275917Z"
    },
    "papermill": {
     "duration": 0.052266,
     "end_time": "2024-02-03T08:03:23.279867",
     "exception": false,
     "start_time": "2024-02-03T08:03:23.227601",
     "status": "completed"
    },
    "tags": []
   },
   "outputs": [],
   "source": [
    "# Logistic Regression\n",
    "from sklearn.linear_model import LogisticRegression"
   ]
  },
  {
   "cell_type": "code",
   "execution_count": 77,
   "id": "0906a197",
   "metadata": {
    "execution": {
     "iopub.execute_input": "2024-02-03T08:03:23.366120Z",
     "iopub.status.busy": "2024-02-03T08:03:23.365708Z",
     "iopub.status.idle": "2024-02-03T08:03:23.370756Z",
     "shell.execute_reply": "2024-02-03T08:03:23.369706Z"
    },
    "papermill": {
     "duration": 0.05096,
     "end_time": "2024-02-03T08:03:23.373103",
     "exception": false,
     "start_time": "2024-02-03T08:03:23.322143",
     "status": "completed"
    },
    "tags": []
   },
   "outputs": [],
   "source": [
    "log_reg=LogisticRegression(solver='liblinear',max_iter=1000)"
   ]
  },
  {
   "cell_type": "code",
   "execution_count": null,
   "id": "c3bb6dda",
   "metadata": {
    "papermill": {
     "duration": 0.041512,
     "end_time": "2024-02-03T08:03:23.457123",
     "exception": false,
     "start_time": "2024-02-03T08:03:23.415611",
     "status": "completed"
    },
    "tags": []
   },
   "outputs": [],
   "source": []
  }
 ],
 "metadata": {
  "kaggle": {
   "accelerator": "none",
   "dataSources": [
    {
     "datasetId": 4362888,
     "sourceId": 7493122,
     "sourceType": "datasetVersion"
    }
   ],
   "dockerImageVersionId": 30635,
   "isGpuEnabled": false,
   "isInternetEnabled": false,
   "language": "python",
   "sourceType": "notebook"
  },
  "kernelspec": {
   "display_name": "Python 3",
   "language": "python",
   "name": "python3"
  },
  "language_info": {
   "codemirror_mode": {
    "name": "ipython",
    "version": 3
   },
   "file_extension": ".py",
   "mimetype": "text/x-python",
   "name": "python",
   "nbconvert_exporter": "python",
   "pygments_lexer": "ipython3",
   "version": "3.10.12"
  },
  "papermill": {
   "default_parameters": {},
   "duration": 21.867111,
   "end_time": "2024-02-03T08:03:24.321614",
   "environment_variables": {},
   "exception": null,
   "input_path": "__notebook__.ipynb",
   "output_path": "__notebook__.ipynb",
   "parameters": {},
   "start_time": "2024-02-03T08:03:02.454503",
   "version": "2.4.0"
  }
 },
 "nbformat": 4,
 "nbformat_minor": 5
}
